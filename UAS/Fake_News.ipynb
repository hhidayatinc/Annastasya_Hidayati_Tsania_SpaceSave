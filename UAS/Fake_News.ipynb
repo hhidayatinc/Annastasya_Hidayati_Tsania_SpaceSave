{
  "nbformat": 4,
  "nbformat_minor": 0,
  "metadata": {
    "colab": {
      "provenance": [],
      "include_colab_link": true
    },
    "kernelspec": {
      "name": "python3",
      "display_name": "Python 3"
    },
    "language_info": {
      "name": "python"
    }
  },
  "cells": [
    {
      "cell_type": "markdown",
      "metadata": {
        "id": "view-in-github",
        "colab_type": "text"
      },
      "source": [
        "<a href=\"https://colab.research.google.com/github/hhidayatinc/Annastasya_Hidayati_Tsania_SpaceSave/blob/main/UAS/Fake_News.ipynb\" target=\"_parent\"><img src=\"https://colab.research.google.com/assets/colab-badge.svg\" alt=\"Open In Colab\"/></a>"
      ]
    },
    {
      "cell_type": "markdown",
      "source": [
        "Anggota kelompok\n",
        "*   Hidayati Nur Chasanah       TI-4J/2241727016\n",
        "*   Tsania Risqi El Istiqomah   TI-4J/2241727041\n",
        "*   Umbu Michael Fernando A     TI-4J/22417270\n",
        "\n",
        "\n",
        "\n"
      ],
      "metadata": {
        "id": "QagIRl8kYmp0"
      }
    },
    {
      "cell_type": "markdown",
      "source": [
        "Dataset yang digunakan memiliki 5 kolom, yang terdiri dari id, author, tittle, text, label"
      ],
      "metadata": {
        "id": "4lRjXCnJrdXF"
      }
    },
    {
      "cell_type": "code",
      "execution_count": 1,
      "metadata": {
        "id": "HUvAbFv3qG90"
      },
      "outputs": [],
      "source": [
        "import numpy as np\n",
        "import pandas as pd\n",
        "import itertools\n",
        "from sklearn.model_selection import train_test_split\n",
        "from sklearn.feature_extraction.text import TfidfVectorizer\n",
        "from sklearn.linear_model import PassiveAggressiveClassifier\n",
        "from sklearn.metrics import accuracy_score, confusion_matrix"
      ]
    },
    {
      "cell_type": "markdown",
      "source": [
        "# Load Data"
      ],
      "metadata": {
        "id": "5bNi2Qo6yiMo"
      }
    },
    {
      "cell_type": "code",
      "source": [
        "from google.colab import drive\n",
        "drive.mount('/content/drive')"
      ],
      "metadata": {
        "id": "-o-2RSlOwhYI",
        "outputId": "2e8dbedb-b0b0-4b27-9384-86737b36c654",
        "colab": {
          "base_uri": "https://localhost:8080/"
        }
      },
      "execution_count": 2,
      "outputs": [
        {
          "output_type": "stream",
          "name": "stdout",
          "text": [
            "Mounted at /content/drive\n"
          ]
        }
      ]
    },
    {
      "cell_type": "code",
      "source": [
        "# Baca data\n",
        "df = pd.read_csv('/content/drive/MyDrive/dataset/train.csv')\n",
        "df.head()"
      ],
      "metadata": {
        "colab": {
          "base_uri": "https://localhost:8080/",
          "height": 206
        },
        "id": "y7o0X37Hrmeb",
        "outputId": "33e3a298-053a-4562-a024-d1cb28513e74"
      },
      "execution_count": 4,
      "outputs": [
        {
          "output_type": "execute_result",
          "data": {
            "text/plain": [
              "   id                                              title              author  \\\n",
              "0   0  House Dem Aide: We Didn’t Even See Comey’s Let...       Darrell Lucus   \n",
              "1   1  FLYNN: Hillary Clinton, Big Woman on Campus - ...     Daniel J. Flynn   \n",
              "2   2                  Why the Truth Might Get You Fired  Consortiumnews.com   \n",
              "3   3  15 Civilians Killed In Single US Airstrike Hav...     Jessica Purkiss   \n",
              "4   4  Iranian woman jailed for fictional unpublished...      Howard Portnoy   \n",
              "\n",
              "                                                text  label  \n",
              "0  House Dem Aide: We Didn’t Even See Comey’s Let...      1  \n",
              "1  Ever get the feeling your life circles the rou...      0  \n",
              "2  Why the Truth Might Get You Fired October 29, ...      1  \n",
              "3  Videos 15 Civilians Killed In Single US Airstr...      1  \n",
              "4  Print \\nAn Iranian woman has been sentenced to...      1  "
            ],
            "text/html": [
              "\n",
              "  <div id=\"df-0c073756-85f3-404b-9160-d1fee54998b6\">\n",
              "    <div class=\"colab-df-container\">\n",
              "      <div>\n",
              "<style scoped>\n",
              "    .dataframe tbody tr th:only-of-type {\n",
              "        vertical-align: middle;\n",
              "    }\n",
              "\n",
              "    .dataframe tbody tr th {\n",
              "        vertical-align: top;\n",
              "    }\n",
              "\n",
              "    .dataframe thead th {\n",
              "        text-align: right;\n",
              "    }\n",
              "</style>\n",
              "<table border=\"1\" class=\"dataframe\">\n",
              "  <thead>\n",
              "    <tr style=\"text-align: right;\">\n",
              "      <th></th>\n",
              "      <th>id</th>\n",
              "      <th>title</th>\n",
              "      <th>author</th>\n",
              "      <th>text</th>\n",
              "      <th>label</th>\n",
              "    </tr>\n",
              "  </thead>\n",
              "  <tbody>\n",
              "    <tr>\n",
              "      <th>0</th>\n",
              "      <td>0</td>\n",
              "      <td>House Dem Aide: We Didn’t Even See Comey’s Let...</td>\n",
              "      <td>Darrell Lucus</td>\n",
              "      <td>House Dem Aide: We Didn’t Even See Comey’s Let...</td>\n",
              "      <td>1</td>\n",
              "    </tr>\n",
              "    <tr>\n",
              "      <th>1</th>\n",
              "      <td>1</td>\n",
              "      <td>FLYNN: Hillary Clinton, Big Woman on Campus - ...</td>\n",
              "      <td>Daniel J. Flynn</td>\n",
              "      <td>Ever get the feeling your life circles the rou...</td>\n",
              "      <td>0</td>\n",
              "    </tr>\n",
              "    <tr>\n",
              "      <th>2</th>\n",
              "      <td>2</td>\n",
              "      <td>Why the Truth Might Get You Fired</td>\n",
              "      <td>Consortiumnews.com</td>\n",
              "      <td>Why the Truth Might Get You Fired October 29, ...</td>\n",
              "      <td>1</td>\n",
              "    </tr>\n",
              "    <tr>\n",
              "      <th>3</th>\n",
              "      <td>3</td>\n",
              "      <td>15 Civilians Killed In Single US Airstrike Hav...</td>\n",
              "      <td>Jessica Purkiss</td>\n",
              "      <td>Videos 15 Civilians Killed In Single US Airstr...</td>\n",
              "      <td>1</td>\n",
              "    </tr>\n",
              "    <tr>\n",
              "      <th>4</th>\n",
              "      <td>4</td>\n",
              "      <td>Iranian woman jailed for fictional unpublished...</td>\n",
              "      <td>Howard Portnoy</td>\n",
              "      <td>Print \\nAn Iranian woman has been sentenced to...</td>\n",
              "      <td>1</td>\n",
              "    </tr>\n",
              "  </tbody>\n",
              "</table>\n",
              "</div>\n",
              "      <button class=\"colab-df-convert\" onclick=\"convertToInteractive('df-0c073756-85f3-404b-9160-d1fee54998b6')\"\n",
              "              title=\"Convert this dataframe to an interactive table.\"\n",
              "              style=\"display:none;\">\n",
              "        \n",
              "  <svg xmlns=\"http://www.w3.org/2000/svg\" height=\"24px\"viewBox=\"0 0 24 24\"\n",
              "       width=\"24px\">\n",
              "    <path d=\"M0 0h24v24H0V0z\" fill=\"none\"/>\n",
              "    <path d=\"M18.56 5.44l.94 2.06.94-2.06 2.06-.94-2.06-.94-.94-2.06-.94 2.06-2.06.94zm-11 1L8.5 8.5l.94-2.06 2.06-.94-2.06-.94L8.5 2.5l-.94 2.06-2.06.94zm10 10l.94 2.06.94-2.06 2.06-.94-2.06-.94-.94-2.06-.94 2.06-2.06.94z\"/><path d=\"M17.41 7.96l-1.37-1.37c-.4-.4-.92-.59-1.43-.59-.52 0-1.04.2-1.43.59L10.3 9.45l-7.72 7.72c-.78.78-.78 2.05 0 2.83L4 21.41c.39.39.9.59 1.41.59.51 0 1.02-.2 1.41-.59l7.78-7.78 2.81-2.81c.8-.78.8-2.07 0-2.86zM5.41 20L4 18.59l7.72-7.72 1.47 1.35L5.41 20z\"/>\n",
              "  </svg>\n",
              "      </button>\n",
              "      \n",
              "  <style>\n",
              "    .colab-df-container {\n",
              "      display:flex;\n",
              "      flex-wrap:wrap;\n",
              "      gap: 12px;\n",
              "    }\n",
              "\n",
              "    .colab-df-convert {\n",
              "      background-color: #E8F0FE;\n",
              "      border: none;\n",
              "      border-radius: 50%;\n",
              "      cursor: pointer;\n",
              "      display: none;\n",
              "      fill: #1967D2;\n",
              "      height: 32px;\n",
              "      padding: 0 0 0 0;\n",
              "      width: 32px;\n",
              "    }\n",
              "\n",
              "    .colab-df-convert:hover {\n",
              "      background-color: #E2EBFA;\n",
              "      box-shadow: 0px 1px 2px rgba(60, 64, 67, 0.3), 0px 1px 3px 1px rgba(60, 64, 67, 0.15);\n",
              "      fill: #174EA6;\n",
              "    }\n",
              "\n",
              "    [theme=dark] .colab-df-convert {\n",
              "      background-color: #3B4455;\n",
              "      fill: #D2E3FC;\n",
              "    }\n",
              "\n",
              "    [theme=dark] .colab-df-convert:hover {\n",
              "      background-color: #434B5C;\n",
              "      box-shadow: 0px 1px 3px 1px rgba(0, 0, 0, 0.15);\n",
              "      filter: drop-shadow(0px 1px 2px rgba(0, 0, 0, 0.3));\n",
              "      fill: #FFFFFF;\n",
              "    }\n",
              "  </style>\n",
              "\n",
              "      <script>\n",
              "        const buttonEl =\n",
              "          document.querySelector('#df-0c073756-85f3-404b-9160-d1fee54998b6 button.colab-df-convert');\n",
              "        buttonEl.style.display =\n",
              "          google.colab.kernel.accessAllowed ? 'block' : 'none';\n",
              "\n",
              "        async function convertToInteractive(key) {\n",
              "          const element = document.querySelector('#df-0c073756-85f3-404b-9160-d1fee54998b6');\n",
              "          const dataTable =\n",
              "            await google.colab.kernel.invokeFunction('convertToInteractive',\n",
              "                                                     [key], {});\n",
              "          if (!dataTable) return;\n",
              "\n",
              "          const docLinkHtml = 'Like what you see? Visit the ' +\n",
              "            '<a target=\"_blank\" href=https://colab.research.google.com/notebooks/data_table.ipynb>data table notebook</a>'\n",
              "            + ' to learn more about interactive tables.';\n",
              "          element.innerHTML = '';\n",
              "          dataTable['output_type'] = 'display_data';\n",
              "          await google.colab.output.renderOutput(dataTable, element);\n",
              "          const docLink = document.createElement('div');\n",
              "          docLink.innerHTML = docLinkHtml;\n",
              "          element.appendChild(docLink);\n",
              "        }\n",
              "      </script>\n",
              "    </div>\n",
              "  </div>\n",
              "  "
            ]
          },
          "metadata": {},
          "execution_count": 4
        }
      ]
    },
    {
      "cell_type": "code",
      "source": [
        "# pemahaman terhadap data\n",
        "# ukuran data\n",
        "df.shape\n",
        "\n",
        "# info data\n",
        "df.info()\n",
        "\n",
        "# deskripsi data\n",
        "df.describe()"
      ],
      "metadata": {
        "colab": {
          "base_uri": "https://localhost:8080/",
          "height": 508
        },
        "id": "00bP-PBLw-pO",
        "outputId": "93d369de-7ee1-44fd-97bf-92dbca3bb92b"
      },
      "execution_count": 5,
      "outputs": [
        {
          "output_type": "stream",
          "name": "stdout",
          "text": [
            "<class 'pandas.core.frame.DataFrame'>\n",
            "RangeIndex: 20800 entries, 0 to 20799\n",
            "Data columns (total 5 columns):\n",
            " #   Column  Non-Null Count  Dtype \n",
            "---  ------  --------------  ----- \n",
            " 0   id      20800 non-null  int64 \n",
            " 1   title   20242 non-null  object\n",
            " 2   author  18843 non-null  object\n",
            " 3   text    20761 non-null  object\n",
            " 4   label   20800 non-null  int64 \n",
            "dtypes: int64(2), object(3)\n",
            "memory usage: 812.6+ KB\n"
          ]
        },
        {
          "output_type": "execute_result",
          "data": {
            "text/plain": [
              "                 id         label\n",
              "count  20800.000000  20800.000000\n",
              "mean   10399.500000      0.500625\n",
              "std     6004.587135      0.500012\n",
              "min        0.000000      0.000000\n",
              "25%     5199.750000      0.000000\n",
              "50%    10399.500000      1.000000\n",
              "75%    15599.250000      1.000000\n",
              "max    20799.000000      1.000000"
            ],
            "text/html": [
              "\n",
              "  <div id=\"df-ae4a49d4-139b-46c1-a18d-021cd1090e97\">\n",
              "    <div class=\"colab-df-container\">\n",
              "      <div>\n",
              "<style scoped>\n",
              "    .dataframe tbody tr th:only-of-type {\n",
              "        vertical-align: middle;\n",
              "    }\n",
              "\n",
              "    .dataframe tbody tr th {\n",
              "        vertical-align: top;\n",
              "    }\n",
              "\n",
              "    .dataframe thead th {\n",
              "        text-align: right;\n",
              "    }\n",
              "</style>\n",
              "<table border=\"1\" class=\"dataframe\">\n",
              "  <thead>\n",
              "    <tr style=\"text-align: right;\">\n",
              "      <th></th>\n",
              "      <th>id</th>\n",
              "      <th>label</th>\n",
              "    </tr>\n",
              "  </thead>\n",
              "  <tbody>\n",
              "    <tr>\n",
              "      <th>count</th>\n",
              "      <td>20800.000000</td>\n",
              "      <td>20800.000000</td>\n",
              "    </tr>\n",
              "    <tr>\n",
              "      <th>mean</th>\n",
              "      <td>10399.500000</td>\n",
              "      <td>0.500625</td>\n",
              "    </tr>\n",
              "    <tr>\n",
              "      <th>std</th>\n",
              "      <td>6004.587135</td>\n",
              "      <td>0.500012</td>\n",
              "    </tr>\n",
              "    <tr>\n",
              "      <th>min</th>\n",
              "      <td>0.000000</td>\n",
              "      <td>0.000000</td>\n",
              "    </tr>\n",
              "    <tr>\n",
              "      <th>25%</th>\n",
              "      <td>5199.750000</td>\n",
              "      <td>0.000000</td>\n",
              "    </tr>\n",
              "    <tr>\n",
              "      <th>50%</th>\n",
              "      <td>10399.500000</td>\n",
              "      <td>1.000000</td>\n",
              "    </tr>\n",
              "    <tr>\n",
              "      <th>75%</th>\n",
              "      <td>15599.250000</td>\n",
              "      <td>1.000000</td>\n",
              "    </tr>\n",
              "    <tr>\n",
              "      <th>max</th>\n",
              "      <td>20799.000000</td>\n",
              "      <td>1.000000</td>\n",
              "    </tr>\n",
              "  </tbody>\n",
              "</table>\n",
              "</div>\n",
              "      <button class=\"colab-df-convert\" onclick=\"convertToInteractive('df-ae4a49d4-139b-46c1-a18d-021cd1090e97')\"\n",
              "              title=\"Convert this dataframe to an interactive table.\"\n",
              "              style=\"display:none;\">\n",
              "        \n",
              "  <svg xmlns=\"http://www.w3.org/2000/svg\" height=\"24px\"viewBox=\"0 0 24 24\"\n",
              "       width=\"24px\">\n",
              "    <path d=\"M0 0h24v24H0V0z\" fill=\"none\"/>\n",
              "    <path d=\"M18.56 5.44l.94 2.06.94-2.06 2.06-.94-2.06-.94-.94-2.06-.94 2.06-2.06.94zm-11 1L8.5 8.5l.94-2.06 2.06-.94-2.06-.94L8.5 2.5l-.94 2.06-2.06.94zm10 10l.94 2.06.94-2.06 2.06-.94-2.06-.94-.94-2.06-.94 2.06-2.06.94z\"/><path d=\"M17.41 7.96l-1.37-1.37c-.4-.4-.92-.59-1.43-.59-.52 0-1.04.2-1.43.59L10.3 9.45l-7.72 7.72c-.78.78-.78 2.05 0 2.83L4 21.41c.39.39.9.59 1.41.59.51 0 1.02-.2 1.41-.59l7.78-7.78 2.81-2.81c.8-.78.8-2.07 0-2.86zM5.41 20L4 18.59l7.72-7.72 1.47 1.35L5.41 20z\"/>\n",
              "  </svg>\n",
              "      </button>\n",
              "      \n",
              "  <style>\n",
              "    .colab-df-container {\n",
              "      display:flex;\n",
              "      flex-wrap:wrap;\n",
              "      gap: 12px;\n",
              "    }\n",
              "\n",
              "    .colab-df-convert {\n",
              "      background-color: #E8F0FE;\n",
              "      border: none;\n",
              "      border-radius: 50%;\n",
              "      cursor: pointer;\n",
              "      display: none;\n",
              "      fill: #1967D2;\n",
              "      height: 32px;\n",
              "      padding: 0 0 0 0;\n",
              "      width: 32px;\n",
              "    }\n",
              "\n",
              "    .colab-df-convert:hover {\n",
              "      background-color: #E2EBFA;\n",
              "      box-shadow: 0px 1px 2px rgba(60, 64, 67, 0.3), 0px 1px 3px 1px rgba(60, 64, 67, 0.15);\n",
              "      fill: #174EA6;\n",
              "    }\n",
              "\n",
              "    [theme=dark] .colab-df-convert {\n",
              "      background-color: #3B4455;\n",
              "      fill: #D2E3FC;\n",
              "    }\n",
              "\n",
              "    [theme=dark] .colab-df-convert:hover {\n",
              "      background-color: #434B5C;\n",
              "      box-shadow: 0px 1px 3px 1px rgba(0, 0, 0, 0.15);\n",
              "      filter: drop-shadow(0px 1px 2px rgba(0, 0, 0, 0.3));\n",
              "      fill: #FFFFFF;\n",
              "    }\n",
              "  </style>\n",
              "\n",
              "      <script>\n",
              "        const buttonEl =\n",
              "          document.querySelector('#df-ae4a49d4-139b-46c1-a18d-021cd1090e97 button.colab-df-convert');\n",
              "        buttonEl.style.display =\n",
              "          google.colab.kernel.accessAllowed ? 'block' : 'none';\n",
              "\n",
              "        async function convertToInteractive(key) {\n",
              "          const element = document.querySelector('#df-ae4a49d4-139b-46c1-a18d-021cd1090e97');\n",
              "          const dataTable =\n",
              "            await google.colab.kernel.invokeFunction('convertToInteractive',\n",
              "                                                     [key], {});\n",
              "          if (!dataTable) return;\n",
              "\n",
              "          const docLinkHtml = 'Like what you see? Visit the ' +\n",
              "            '<a target=\"_blank\" href=https://colab.research.google.com/notebooks/data_table.ipynb>data table notebook</a>'\n",
              "            + ' to learn more about interactive tables.';\n",
              "          element.innerHTML = '';\n",
              "          dataTable['output_type'] = 'display_data';\n",
              "          await google.colab.output.renderOutput(dataTable, element);\n",
              "          const docLink = document.createElement('div');\n",
              "          docLink.innerHTML = docLinkHtml;\n",
              "          element.appendChild(docLink);\n",
              "        }\n",
              "      </script>\n",
              "    </div>\n",
              "  </div>\n",
              "  "
            ]
          },
          "metadata": {},
          "execution_count": 5
        }
      ]
    },
    {
      "cell_type": "markdown",
      "source": [
        "# Data Cleaning"
      ],
      "metadata": {
        "id": "7X8TIKadyuDI"
      }
    },
    {
      "cell_type": "code",
      "source": [
        "## Get the Independent Features\n",
        "X=df.drop('label',axis=1)"
      ],
      "metadata": {
        "id": "8NfJHH2aeEt_"
      },
      "execution_count": 6,
      "outputs": []
    },
    {
      "cell_type": "code",
      "source": [
        "X.head()"
      ],
      "metadata": {
        "colab": {
          "base_uri": "https://localhost:8080/",
          "height": 206
        },
        "id": "y33ktws-eFzO",
        "outputId": "8e5225e3-994b-4501-a7ea-18b9b414daec"
      },
      "execution_count": 7,
      "outputs": [
        {
          "output_type": "execute_result",
          "data": {
            "text/plain": [
              "   id                                              title              author  \\\n",
              "0   0  House Dem Aide: We Didn’t Even See Comey’s Let...       Darrell Lucus   \n",
              "1   1  FLYNN: Hillary Clinton, Big Woman on Campus - ...     Daniel J. Flynn   \n",
              "2   2                  Why the Truth Might Get You Fired  Consortiumnews.com   \n",
              "3   3  15 Civilians Killed In Single US Airstrike Hav...     Jessica Purkiss   \n",
              "4   4  Iranian woman jailed for fictional unpublished...      Howard Portnoy   \n",
              "\n",
              "                                                text  \n",
              "0  House Dem Aide: We Didn’t Even See Comey’s Let...  \n",
              "1  Ever get the feeling your life circles the rou...  \n",
              "2  Why the Truth Might Get You Fired October 29, ...  \n",
              "3  Videos 15 Civilians Killed In Single US Airstr...  \n",
              "4  Print \\nAn Iranian woman has been sentenced to...  "
            ],
            "text/html": [
              "\n",
              "  <div id=\"df-d5917355-39b2-480c-bd5d-e9b2bc9d163c\">\n",
              "    <div class=\"colab-df-container\">\n",
              "      <div>\n",
              "<style scoped>\n",
              "    .dataframe tbody tr th:only-of-type {\n",
              "        vertical-align: middle;\n",
              "    }\n",
              "\n",
              "    .dataframe tbody tr th {\n",
              "        vertical-align: top;\n",
              "    }\n",
              "\n",
              "    .dataframe thead th {\n",
              "        text-align: right;\n",
              "    }\n",
              "</style>\n",
              "<table border=\"1\" class=\"dataframe\">\n",
              "  <thead>\n",
              "    <tr style=\"text-align: right;\">\n",
              "      <th></th>\n",
              "      <th>id</th>\n",
              "      <th>title</th>\n",
              "      <th>author</th>\n",
              "      <th>text</th>\n",
              "    </tr>\n",
              "  </thead>\n",
              "  <tbody>\n",
              "    <tr>\n",
              "      <th>0</th>\n",
              "      <td>0</td>\n",
              "      <td>House Dem Aide: We Didn’t Even See Comey’s Let...</td>\n",
              "      <td>Darrell Lucus</td>\n",
              "      <td>House Dem Aide: We Didn’t Even See Comey’s Let...</td>\n",
              "    </tr>\n",
              "    <tr>\n",
              "      <th>1</th>\n",
              "      <td>1</td>\n",
              "      <td>FLYNN: Hillary Clinton, Big Woman on Campus - ...</td>\n",
              "      <td>Daniel J. Flynn</td>\n",
              "      <td>Ever get the feeling your life circles the rou...</td>\n",
              "    </tr>\n",
              "    <tr>\n",
              "      <th>2</th>\n",
              "      <td>2</td>\n",
              "      <td>Why the Truth Might Get You Fired</td>\n",
              "      <td>Consortiumnews.com</td>\n",
              "      <td>Why the Truth Might Get You Fired October 29, ...</td>\n",
              "    </tr>\n",
              "    <tr>\n",
              "      <th>3</th>\n",
              "      <td>3</td>\n",
              "      <td>15 Civilians Killed In Single US Airstrike Hav...</td>\n",
              "      <td>Jessica Purkiss</td>\n",
              "      <td>Videos 15 Civilians Killed In Single US Airstr...</td>\n",
              "    </tr>\n",
              "    <tr>\n",
              "      <th>4</th>\n",
              "      <td>4</td>\n",
              "      <td>Iranian woman jailed for fictional unpublished...</td>\n",
              "      <td>Howard Portnoy</td>\n",
              "      <td>Print \\nAn Iranian woman has been sentenced to...</td>\n",
              "    </tr>\n",
              "  </tbody>\n",
              "</table>\n",
              "</div>\n",
              "      <button class=\"colab-df-convert\" onclick=\"convertToInteractive('df-d5917355-39b2-480c-bd5d-e9b2bc9d163c')\"\n",
              "              title=\"Convert this dataframe to an interactive table.\"\n",
              "              style=\"display:none;\">\n",
              "        \n",
              "  <svg xmlns=\"http://www.w3.org/2000/svg\" height=\"24px\"viewBox=\"0 0 24 24\"\n",
              "       width=\"24px\">\n",
              "    <path d=\"M0 0h24v24H0V0z\" fill=\"none\"/>\n",
              "    <path d=\"M18.56 5.44l.94 2.06.94-2.06 2.06-.94-2.06-.94-.94-2.06-.94 2.06-2.06.94zm-11 1L8.5 8.5l.94-2.06 2.06-.94-2.06-.94L8.5 2.5l-.94 2.06-2.06.94zm10 10l.94 2.06.94-2.06 2.06-.94-2.06-.94-.94-2.06-.94 2.06-2.06.94z\"/><path d=\"M17.41 7.96l-1.37-1.37c-.4-.4-.92-.59-1.43-.59-.52 0-1.04.2-1.43.59L10.3 9.45l-7.72 7.72c-.78.78-.78 2.05 0 2.83L4 21.41c.39.39.9.59 1.41.59.51 0 1.02-.2 1.41-.59l7.78-7.78 2.81-2.81c.8-.78.8-2.07 0-2.86zM5.41 20L4 18.59l7.72-7.72 1.47 1.35L5.41 20z\"/>\n",
              "  </svg>\n",
              "      </button>\n",
              "      \n",
              "  <style>\n",
              "    .colab-df-container {\n",
              "      display:flex;\n",
              "      flex-wrap:wrap;\n",
              "      gap: 12px;\n",
              "    }\n",
              "\n",
              "    .colab-df-convert {\n",
              "      background-color: #E8F0FE;\n",
              "      border: none;\n",
              "      border-radius: 50%;\n",
              "      cursor: pointer;\n",
              "      display: none;\n",
              "      fill: #1967D2;\n",
              "      height: 32px;\n",
              "      padding: 0 0 0 0;\n",
              "      width: 32px;\n",
              "    }\n",
              "\n",
              "    .colab-df-convert:hover {\n",
              "      background-color: #E2EBFA;\n",
              "      box-shadow: 0px 1px 2px rgba(60, 64, 67, 0.3), 0px 1px 3px 1px rgba(60, 64, 67, 0.15);\n",
              "      fill: #174EA6;\n",
              "    }\n",
              "\n",
              "    [theme=dark] .colab-df-convert {\n",
              "      background-color: #3B4455;\n",
              "      fill: #D2E3FC;\n",
              "    }\n",
              "\n",
              "    [theme=dark] .colab-df-convert:hover {\n",
              "      background-color: #434B5C;\n",
              "      box-shadow: 0px 1px 3px 1px rgba(0, 0, 0, 0.15);\n",
              "      filter: drop-shadow(0px 1px 2px rgba(0, 0, 0, 0.3));\n",
              "      fill: #FFFFFF;\n",
              "    }\n",
              "  </style>\n",
              "\n",
              "      <script>\n",
              "        const buttonEl =\n",
              "          document.querySelector('#df-d5917355-39b2-480c-bd5d-e9b2bc9d163c button.colab-df-convert');\n",
              "        buttonEl.style.display =\n",
              "          google.colab.kernel.accessAllowed ? 'block' : 'none';\n",
              "\n",
              "        async function convertToInteractive(key) {\n",
              "          const element = document.querySelector('#df-d5917355-39b2-480c-bd5d-e9b2bc9d163c');\n",
              "          const dataTable =\n",
              "            await google.colab.kernel.invokeFunction('convertToInteractive',\n",
              "                                                     [key], {});\n",
              "          if (!dataTable) return;\n",
              "\n",
              "          const docLinkHtml = 'Like what you see? Visit the ' +\n",
              "            '<a target=\"_blank\" href=https://colab.research.google.com/notebooks/data_table.ipynb>data table notebook</a>'\n",
              "            + ' to learn more about interactive tables.';\n",
              "          element.innerHTML = '';\n",
              "          dataTable['output_type'] = 'display_data';\n",
              "          await google.colab.output.renderOutput(dataTable, element);\n",
              "          const docLink = document.createElement('div');\n",
              "          docLink.innerHTML = docLinkHtml;\n",
              "          element.appendChild(docLink);\n",
              "        }\n",
              "      </script>\n",
              "    </div>\n",
              "  </div>\n",
              "  "
            ]
          },
          "metadata": {},
          "execution_count": 7
        }
      ]
    },
    {
      "cell_type": "code",
      "source": [
        "## Get the Dependent features\n",
        "y=df['label']"
      ],
      "metadata": {
        "id": "7DbaavVIeGWJ"
      },
      "execution_count": 8,
      "outputs": []
    },
    {
      "cell_type": "code",
      "source": [
        "y.head()"
      ],
      "metadata": {
        "colab": {
          "base_uri": "https://localhost:8080/"
        },
        "id": "YaK3OYjAeIM_",
        "outputId": "0e16ae67-8065-467e-ce70-ea0111d4a464"
      },
      "execution_count": 9,
      "outputs": [
        {
          "output_type": "execute_result",
          "data": {
            "text/plain": [
              "0    1\n",
              "1    0\n",
              "2    1\n",
              "3    1\n",
              "4    1\n",
              "Name: label, dtype: int64"
            ]
          },
          "metadata": {},
          "execution_count": 9
        }
      ]
    },
    {
      "cell_type": "code",
      "source": [
        "# cek apakah dalam dataset terdapat nilai yang kosong\n",
        "df.isnull().sum()"
      ],
      "metadata": {
        "colab": {
          "base_uri": "https://localhost:8080/"
        },
        "id": "DFMzhPIdunUT",
        "outputId": "24229157-b1a2-4c56-c0d2-6bf7d8444066"
      },
      "execution_count": 10,
      "outputs": [
        {
          "output_type": "execute_result",
          "data": {
            "text/plain": [
              "id           0\n",
              "title      558\n",
              "author    1957\n",
              "text        39\n",
              "label        0\n",
              "dtype: int64"
            ]
          },
          "metadata": {},
          "execution_count": 10
        }
      ]
    },
    {
      "cell_type": "code",
      "source": [
        "# hapus semua data yang memiliki nilai yang kosong\n",
        "df=df.dropna()"
      ],
      "metadata": {
        "id": "I-cp4n0MyAK5"
      },
      "execution_count": 11,
      "outputs": []
    },
    {
      "cell_type": "code",
      "source": [
        "# cek kembali apakah dalam dataset terdapat nilai yang kosong\n",
        "df.isnull().sum()"
      ],
      "metadata": {
        "colab": {
          "base_uri": "https://localhost:8080/"
        },
        "id": "7mwmpt3SyDPe",
        "outputId": "6df0a97e-4d55-4b1c-8a50-5409c75c98e0"
      },
      "execution_count": 12,
      "outputs": [
        {
          "output_type": "execute_result",
          "data": {
            "text/plain": [
              "id        0\n",
              "title     0\n",
              "author    0\n",
              "text      0\n",
              "label     0\n",
              "dtype: int64"
            ]
          },
          "metadata": {},
          "execution_count": 12
        }
      ]
    },
    {
      "cell_type": "code",
      "source": [
        "messages=df.copy()"
      ],
      "metadata": {
        "id": "jUdyEGLweZPe"
      },
      "execution_count": 13,
      "outputs": []
    },
    {
      "cell_type": "code",
      "source": [
        "messages.reset_index(inplace=True)\n",
        "messages.head(10)"
      ],
      "metadata": {
        "colab": {
          "base_uri": "https://localhost:8080/",
          "height": 363
        },
        "id": "MTgCJquneal_",
        "outputId": "8ee7a1e1-6f17-40ce-f6b7-74a230fae829"
      },
      "execution_count": 14,
      "outputs": [
        {
          "output_type": "execute_result",
          "data": {
            "text/plain": [
              "   index  id                                              title  \\\n",
              "0      0   0  House Dem Aide: We Didn’t Even See Comey’s Let...   \n",
              "1      1   1  FLYNN: Hillary Clinton, Big Woman on Campus - ...   \n",
              "2      2   2                  Why the Truth Might Get You Fired   \n",
              "3      3   3  15 Civilians Killed In Single US Airstrike Hav...   \n",
              "4      4   4  Iranian woman jailed for fictional unpublished...   \n",
              "5      5   5  Jackie Mason: Hollywood Would Love Trump if He...   \n",
              "6      7   7  Benoît Hamon Wins French Socialist Party’s Pre...   \n",
              "7      9   9  A Back-Channel Plan for Ukraine and Russia, Co...   \n",
              "8     10  10  Obama’s Organizing for Action Partners with So...   \n",
              "9     11  11  BBC Comedy Sketch \"Real Housewives of ISIS\" Ca...   \n",
              "\n",
              "                         author  \\\n",
              "0                 Darrell Lucus   \n",
              "1               Daniel J. Flynn   \n",
              "2            Consortiumnews.com   \n",
              "3               Jessica Purkiss   \n",
              "4                Howard Portnoy   \n",
              "5               Daniel Nussbaum   \n",
              "6               Alissa J. Rubin   \n",
              "7  Megan Twohey and Scott Shane   \n",
              "8                   Aaron Klein   \n",
              "9               Chris Tomlinson   \n",
              "\n",
              "                                                text  label  \n",
              "0  House Dem Aide: We Didn’t Even See Comey’s Let...      1  \n",
              "1  Ever get the feeling your life circles the rou...      0  \n",
              "2  Why the Truth Might Get You Fired October 29, ...      1  \n",
              "3  Videos 15 Civilians Killed In Single US Airstr...      1  \n",
              "4  Print \\nAn Iranian woman has been sentenced to...      1  \n",
              "5  In these trying times, Jackie Mason is the Voi...      0  \n",
              "6  PARIS  —   France chose an idealistic, traditi...      0  \n",
              "7  A week before Michael T. Flynn resigned as nat...      0  \n",
              "8  Organizing for Action, the activist group that...      0  \n",
              "9  The BBC produced spoof on the “Real Housewives...      0  "
            ],
            "text/html": [
              "\n",
              "  <div id=\"df-1ca57936-51b3-47d8-b9d4-1d70792995f2\">\n",
              "    <div class=\"colab-df-container\">\n",
              "      <div>\n",
              "<style scoped>\n",
              "    .dataframe tbody tr th:only-of-type {\n",
              "        vertical-align: middle;\n",
              "    }\n",
              "\n",
              "    .dataframe tbody tr th {\n",
              "        vertical-align: top;\n",
              "    }\n",
              "\n",
              "    .dataframe thead th {\n",
              "        text-align: right;\n",
              "    }\n",
              "</style>\n",
              "<table border=\"1\" class=\"dataframe\">\n",
              "  <thead>\n",
              "    <tr style=\"text-align: right;\">\n",
              "      <th></th>\n",
              "      <th>index</th>\n",
              "      <th>id</th>\n",
              "      <th>title</th>\n",
              "      <th>author</th>\n",
              "      <th>text</th>\n",
              "      <th>label</th>\n",
              "    </tr>\n",
              "  </thead>\n",
              "  <tbody>\n",
              "    <tr>\n",
              "      <th>0</th>\n",
              "      <td>0</td>\n",
              "      <td>0</td>\n",
              "      <td>House Dem Aide: We Didn’t Even See Comey’s Let...</td>\n",
              "      <td>Darrell Lucus</td>\n",
              "      <td>House Dem Aide: We Didn’t Even See Comey’s Let...</td>\n",
              "      <td>1</td>\n",
              "    </tr>\n",
              "    <tr>\n",
              "      <th>1</th>\n",
              "      <td>1</td>\n",
              "      <td>1</td>\n",
              "      <td>FLYNN: Hillary Clinton, Big Woman on Campus - ...</td>\n",
              "      <td>Daniel J. Flynn</td>\n",
              "      <td>Ever get the feeling your life circles the rou...</td>\n",
              "      <td>0</td>\n",
              "    </tr>\n",
              "    <tr>\n",
              "      <th>2</th>\n",
              "      <td>2</td>\n",
              "      <td>2</td>\n",
              "      <td>Why the Truth Might Get You Fired</td>\n",
              "      <td>Consortiumnews.com</td>\n",
              "      <td>Why the Truth Might Get You Fired October 29, ...</td>\n",
              "      <td>1</td>\n",
              "    </tr>\n",
              "    <tr>\n",
              "      <th>3</th>\n",
              "      <td>3</td>\n",
              "      <td>3</td>\n",
              "      <td>15 Civilians Killed In Single US Airstrike Hav...</td>\n",
              "      <td>Jessica Purkiss</td>\n",
              "      <td>Videos 15 Civilians Killed In Single US Airstr...</td>\n",
              "      <td>1</td>\n",
              "    </tr>\n",
              "    <tr>\n",
              "      <th>4</th>\n",
              "      <td>4</td>\n",
              "      <td>4</td>\n",
              "      <td>Iranian woman jailed for fictional unpublished...</td>\n",
              "      <td>Howard Portnoy</td>\n",
              "      <td>Print \\nAn Iranian woman has been sentenced to...</td>\n",
              "      <td>1</td>\n",
              "    </tr>\n",
              "    <tr>\n",
              "      <th>5</th>\n",
              "      <td>5</td>\n",
              "      <td>5</td>\n",
              "      <td>Jackie Mason: Hollywood Would Love Trump if He...</td>\n",
              "      <td>Daniel Nussbaum</td>\n",
              "      <td>In these trying times, Jackie Mason is the Voi...</td>\n",
              "      <td>0</td>\n",
              "    </tr>\n",
              "    <tr>\n",
              "      <th>6</th>\n",
              "      <td>7</td>\n",
              "      <td>7</td>\n",
              "      <td>Benoît Hamon Wins French Socialist Party’s Pre...</td>\n",
              "      <td>Alissa J. Rubin</td>\n",
              "      <td>PARIS  —   France chose an idealistic, traditi...</td>\n",
              "      <td>0</td>\n",
              "    </tr>\n",
              "    <tr>\n",
              "      <th>7</th>\n",
              "      <td>9</td>\n",
              "      <td>9</td>\n",
              "      <td>A Back-Channel Plan for Ukraine and Russia, Co...</td>\n",
              "      <td>Megan Twohey and Scott Shane</td>\n",
              "      <td>A week before Michael T. Flynn resigned as nat...</td>\n",
              "      <td>0</td>\n",
              "    </tr>\n",
              "    <tr>\n",
              "      <th>8</th>\n",
              "      <td>10</td>\n",
              "      <td>10</td>\n",
              "      <td>Obama’s Organizing for Action Partners with So...</td>\n",
              "      <td>Aaron Klein</td>\n",
              "      <td>Organizing for Action, the activist group that...</td>\n",
              "      <td>0</td>\n",
              "    </tr>\n",
              "    <tr>\n",
              "      <th>9</th>\n",
              "      <td>11</td>\n",
              "      <td>11</td>\n",
              "      <td>BBC Comedy Sketch \"Real Housewives of ISIS\" Ca...</td>\n",
              "      <td>Chris Tomlinson</td>\n",
              "      <td>The BBC produced spoof on the “Real Housewives...</td>\n",
              "      <td>0</td>\n",
              "    </tr>\n",
              "  </tbody>\n",
              "</table>\n",
              "</div>\n",
              "      <button class=\"colab-df-convert\" onclick=\"convertToInteractive('df-1ca57936-51b3-47d8-b9d4-1d70792995f2')\"\n",
              "              title=\"Convert this dataframe to an interactive table.\"\n",
              "              style=\"display:none;\">\n",
              "        \n",
              "  <svg xmlns=\"http://www.w3.org/2000/svg\" height=\"24px\"viewBox=\"0 0 24 24\"\n",
              "       width=\"24px\">\n",
              "    <path d=\"M0 0h24v24H0V0z\" fill=\"none\"/>\n",
              "    <path d=\"M18.56 5.44l.94 2.06.94-2.06 2.06-.94-2.06-.94-.94-2.06-.94 2.06-2.06.94zm-11 1L8.5 8.5l.94-2.06 2.06-.94-2.06-.94L8.5 2.5l-.94 2.06-2.06.94zm10 10l.94 2.06.94-2.06 2.06-.94-2.06-.94-.94-2.06-.94 2.06-2.06.94z\"/><path d=\"M17.41 7.96l-1.37-1.37c-.4-.4-.92-.59-1.43-.59-.52 0-1.04.2-1.43.59L10.3 9.45l-7.72 7.72c-.78.78-.78 2.05 0 2.83L4 21.41c.39.39.9.59 1.41.59.51 0 1.02-.2 1.41-.59l7.78-7.78 2.81-2.81c.8-.78.8-2.07 0-2.86zM5.41 20L4 18.59l7.72-7.72 1.47 1.35L5.41 20z\"/>\n",
              "  </svg>\n",
              "      </button>\n",
              "      \n",
              "  <style>\n",
              "    .colab-df-container {\n",
              "      display:flex;\n",
              "      flex-wrap:wrap;\n",
              "      gap: 12px;\n",
              "    }\n",
              "\n",
              "    .colab-df-convert {\n",
              "      background-color: #E8F0FE;\n",
              "      border: none;\n",
              "      border-radius: 50%;\n",
              "      cursor: pointer;\n",
              "      display: none;\n",
              "      fill: #1967D2;\n",
              "      height: 32px;\n",
              "      padding: 0 0 0 0;\n",
              "      width: 32px;\n",
              "    }\n",
              "\n",
              "    .colab-df-convert:hover {\n",
              "      background-color: #E2EBFA;\n",
              "      box-shadow: 0px 1px 2px rgba(60, 64, 67, 0.3), 0px 1px 3px 1px rgba(60, 64, 67, 0.15);\n",
              "      fill: #174EA6;\n",
              "    }\n",
              "\n",
              "    [theme=dark] .colab-df-convert {\n",
              "      background-color: #3B4455;\n",
              "      fill: #D2E3FC;\n",
              "    }\n",
              "\n",
              "    [theme=dark] .colab-df-convert:hover {\n",
              "      background-color: #434B5C;\n",
              "      box-shadow: 0px 1px 3px 1px rgba(0, 0, 0, 0.15);\n",
              "      filter: drop-shadow(0px 1px 2px rgba(0, 0, 0, 0.3));\n",
              "      fill: #FFFFFF;\n",
              "    }\n",
              "  </style>\n",
              "\n",
              "      <script>\n",
              "        const buttonEl =\n",
              "          document.querySelector('#df-1ca57936-51b3-47d8-b9d4-1d70792995f2 button.colab-df-convert');\n",
              "        buttonEl.style.display =\n",
              "          google.colab.kernel.accessAllowed ? 'block' : 'none';\n",
              "\n",
              "        async function convertToInteractive(key) {\n",
              "          const element = document.querySelector('#df-1ca57936-51b3-47d8-b9d4-1d70792995f2');\n",
              "          const dataTable =\n",
              "            await google.colab.kernel.invokeFunction('convertToInteractive',\n",
              "                                                     [key], {});\n",
              "          if (!dataTable) return;\n",
              "\n",
              "          const docLinkHtml = 'Like what you see? Visit the ' +\n",
              "            '<a target=\"_blank\" href=https://colab.research.google.com/notebooks/data_table.ipynb>data table notebook</a>'\n",
              "            + ' to learn more about interactive tables.';\n",
              "          element.innerHTML = '';\n",
              "          dataTable['output_type'] = 'display_data';\n",
              "          await google.colab.output.renderOutput(dataTable, element);\n",
              "          const docLink = document.createElement('div');\n",
              "          docLink.innerHTML = docLinkHtml;\n",
              "          element.appendChild(docLink);\n",
              "        }\n",
              "      </script>\n",
              "    </div>\n",
              "  </div>\n",
              "  "
            ]
          },
          "metadata": {},
          "execution_count": 14
        }
      ]
    },
    {
      "cell_type": "code",
      "source": [
        "import nltk\n",
        "nltk.download('stopwords')\n",
        "import re\n",
        "from nltk.corpus import stopwords\n",
        "from nltk.stem.porter import PorterStemmer\n",
        "ps = PorterStemmer()\n",
        "corpus = []\n",
        "for i in range(0, len(messages)):\n",
        "    review = re.sub('[^a-zA-Z]', ' ', messages['title'][i])\n",
        "    review = review.lower()\n",
        "    review = review.split()\n",
        "    \n",
        "    review = [ps.stem(word) for word in review if not word in stopwords.words('english')]\n",
        "    review = ' '.join(review)\n",
        "    corpus.append(review)"
      ],
      "metadata": {
        "colab": {
          "base_uri": "https://localhost:8080/"
        },
        "id": "saFDPB7GcTcs",
        "outputId": "e4ef3fa4-f415-4506-8eb5-37e4ec55083c"
      },
      "execution_count": 15,
      "outputs": [
        {
          "output_type": "stream",
          "name": "stderr",
          "text": [
            "[nltk_data] Downloading package stopwords to /root/nltk_data...\n",
            "[nltk_data]   Unzipping corpora/stopwords.zip.\n"
          ]
        }
      ]
    },
    {
      "cell_type": "code",
      "source": [
        "corpus[:5]"
      ],
      "metadata": {
        "colab": {
          "base_uri": "https://localhost:8080/"
        },
        "id": "FYRQmWB2e-uM",
        "outputId": "6039fe5d-67bb-4e8c-bd62-a817389179ee"
      },
      "execution_count": 16,
      "outputs": [
        {
          "output_type": "execute_result",
          "data": {
            "text/plain": [
              "['hous dem aid even see comey letter jason chaffetz tweet',\n",
              " 'flynn hillari clinton big woman campu breitbart',\n",
              " 'truth might get fire',\n",
              " 'civilian kill singl us airstrik identifi',\n",
              " 'iranian woman jail fiction unpublish stori woman stone death adulteri']"
            ]
          },
          "metadata": {},
          "execution_count": 16
        }
      ]
    },
    {
      "cell_type": "code",
      "source": [
        "messages.shape"
      ],
      "metadata": {
        "colab": {
          "base_uri": "https://localhost:8080/"
        },
        "id": "zseLuYLTfA29",
        "outputId": "fa01ca33-fea8-440e-f110-42ce9edaaff8"
      },
      "execution_count": 17,
      "outputs": [
        {
          "output_type": "execute_result",
          "data": {
            "text/plain": [
              "(18285, 6)"
            ]
          },
          "metadata": {},
          "execution_count": 17
        }
      ]
    },
    {
      "cell_type": "code",
      "source": [
        "y=messages['label']"
      ],
      "metadata": {
        "id": "hx4sgq_yfCfi"
      },
      "execution_count": 18,
      "outputs": []
    },
    {
      "cell_type": "markdown",
      "source": [
        "# TFidf Vectorizer"
      ],
      "metadata": {
        "id": "zXi07Ok6f1Wo"
      }
    },
    {
      "cell_type": "code",
      "source": [
        "from sklearn.feature_extraction.text import TfidfVectorizer\n",
        "vectorizer = TfidfVectorizer(max_features=5000,ngram_range=(1,3), smooth_idf=True)\n",
        "X=vectorizer.fit_transform(corpus).toarray()\n",
        "print(vectorizer.get_feature_names())\n",
        "y=messages['label']"
      ],
      "metadata": {
        "id": "sPliiE3ZfECc",
        "colab": {
          "base_uri": "https://localhost:8080/"
        },
        "outputId": "202866b2-7075-40d0-d19e-c0fae632f206"
      },
      "execution_count": 21,
      "outputs": [
        {
          "output_type": "stream",
          "name": "stdout",
          "text": [
            "['abandon', 'abc', 'abc news', 'abduct', 'abe', 'abedin', 'abl', 'abort', 'abroad', 'absolut', 'abstain', 'absurd', 'abus', 'abus new', 'abus new york', 'academi', 'accept', 'access', 'access pipelin', 'access pipelin protest', 'accid', 'accident', 'accord', 'account', 'accus', 'accus trump', 'achiev', 'acknowledg', 'acknowledg emf', 'acknowledg emf damag', 'aclu', 'acquit', 'acquitt', 'acr', 'across', 'act', 'act like', 'act new', 'act new york', 'action', 'activ', 'activist', 'actor', 'actual', 'ad', 'adam', 'add', 'addict', 'address', 'adhd', 'admin', 'administr', 'admir', 'admit', 'adopt', 'adult', 'advanc', 'advertis', 'advic', 'advis', 'advis new', 'advis new york', 'advisor', 'advoc', 'affair', 'affect', 'affili', 'affirm', 'afford', 'afghan', 'afghanistan', 'africa', 'african', 'african american', 'ag', 'age', 'age new', 'age new york', 'agenc', 'agenda', 'agenda breitbart', 'agent', 'aggress', 'ago', 'agre', 'agreement', 'ahead', 'ahead trump', 'ai', 'aid', 'ail', 'aim', 'air', 'air forc', 'airbnb', 'aircraft', 'airlin', 'airport', 'airstrik', 'airstrik kill', 'akbar', 'al', 'al gore', 'al nusra', 'al qaeda', 'alabama', 'alarm', 'album', 'alcohol', 'aleppo', 'aleppo new', 'aleppo new york', 'alert', 'alex', 'alex jone', 'ali', 'alien', 'aliv', 'allah', 'allahu', 'allahu akbar', 'alleg', 'allegedli', 'alli', 'allianc', 'allow', 'almost', 'alon', 'along', 'alreadi', 'also', 'alt', 'alt right', 'alter', 'altern', 'alway', 'amaz', 'amazon', 'ambassador', 'ambush', 'amend', 'america', 'america breitbart', 'america first', 'america great', 'america last', 'america new', 'america new york', 'america vote', 'american', 'american breitbart', 'american concern', 'american concern elect', 'american elect', 'american new', 'american new york', 'american peopl', 'american peopl defeat', 'ami', 'ami schumer', 'amid', 'amnesti', 'among', 'amp', 'analyst', 'anchor', 'ancient', 'anderson', 'anderson cooper', 'andrea', 'andrew', 'angel', 'angela', 'angela merkel', 'angelina', 'angelina joli', 'anger', 'angri', 'anim', 'ann', 'ann coulter', 'anniversari', 'announc', 'annual', 'anonym', 'anoth', 'answer', 'anthem', 'anthoni', 'anthoni weiner', 'anti', 'anti israel', 'anti semit', 'anti trump', 'anti trump protest', 'anymor', 'anyon', 'anyth', 'ap', 'apart', 'apocalyps', 'apolog', 'app', 'appar', 'appeal', 'appear', 'appl', 'applaud', 'appli', 'applic', 'appoint', 'approach', 'appropri', 'approv', 'aqsa', 'arab', 'arabia', 'arabian', 'architect', 'architectur', 'arctic', 'area', 'argument', 'ariel', 'ariel noyola', 'ariel noyola rodr', 'arizona', 'arm', 'armi', 'around', 'around world', 'arrest', 'arriv', 'arson', 'art', 'articl', 'artifici', 'artist', 'asia', 'asian', 'asid', 'ask', 'ask question', 'assad', 'assail', 'assang', 'assassin', 'assault', 'assembl', 'asset', 'assist', 'associ', 'asylum', 'asylum seeker', 'athlet', 'atlant', 'attack', 'attack breitbart', 'attack new', 'attack new york', 'attack polic', 'attack syria', 'attack trump', 'attempt', 'attend', 'attent', 'attorney', 'attorney gener', 'audio', 'audio hillari', 'audio hillari clinton', 'auf', 'australia', 'australian', 'austria', 'author', 'autism', 'auto', 'avail', 'averag', 'avert', 'aviv', 'avoid', 'await', 'awaken', 'award', 'away', 'away new', 'away new york', 'awesom', 'babi', 'babi powder', 'back', 'back new', 'back new york', 'back trump', 'backer', 'backfir', 'backlash', 'bad', 'bad news', 'badg', 'badli', 'bag', 'baghdad', 'bake', 'balanc', 'baldwin', 'ball', 'ballist', 'ballist missil', 'ballot', 'baltic', 'baltimor', 'ban', 'ban breitbart', 'ban new', 'ban new york', 'banana', 'banana republ', 'band', 'bang', 'bangladesh', 'bank', 'banker', 'bannon', 'bar', 'barack', 'barack obama', 'barack obama delay', 'bare', 'barrier', 'barron', 'barron trump', 'base', 'basebal', 'bash', 'basic', 'basketbal', 'basketbal player', 'bathroom', 'baton', 'baton roug', 'batteri', 'battl', 'battl new', 'battl new york', 'battleground', 'battleground state', 'bay', 'bbc', 'beach', 'beach new', 'beach new york', 'bear', 'beast', 'beat', 'beauti', 'becam', 'becom', 'bee', 'beer', 'beg', 'begin', 'begin new', 'begun', 'behavior', 'behead', 'behead photo', 'behind', 'behind trump', 'beij', 'believ', 'belong', 'ben', 'benefit', 'benghazi', 'berkeley', 'berkeley breitbart', 'berlin', 'berni', 'berni sander', 'best', 'bet', 'betray', 'betsi', 'betsi devo', 'better', 'bewar', 'beyonc', 'beyond', 'bia', 'bias', 'bibl', 'bid', 'biden', 'big', 'big pharma', 'bigger', 'biggest', 'bill', 'bill breitbart', 'bill clinton', 'bill cosbi', 'bill maher', 'bill new', 'bill new york', 'bill reilli', 'billi', 'billion', 'billionair', 'bird', 'birth', 'birthday', 'bishop', 'bit', 'bitter', 'black', 'black agenda', 'black live', 'black live matter', 'black voter', 'blackout', 'blame', 'blasio', 'blast', 'bless', 'blind', 'blm', 'block', 'block trump', 'blog', 'blood', 'bloodi', 'blow', 'blue', 'blue state', 'blue state blue', 'blunt', 'board', 'boast', 'boat', 'bob', 'bob dylan', 'bodi', 'boe', 'boil', 'boko', 'boko haram', 'bolster', 'bolton', 'bomb', 'bomber', 'bombshel', 'bond', 'bonus', 'book', 'boom', 'boost', 'border', 'border patrol', 'border patrol agent', 'border state', 'border wall', 'border wall breitbart', 'bori', 'born', 'boss', 'bottom', 'bound', 'bow', 'bowl', 'box', 'box offic', 'boy', 'boycott', 'brace', 'bradi', 'brain', 'branch', 'brand', 'brave', 'brazil', 'break', 'break fbi', 'break new', 'break trump', 'breast', 'breath', 'breitbart', 'breitbart news', 'breitbart news daili', 'brexit', 'bribe', 'brick', 'bridg', 'brief', 'brief new', 'brief new york', 'brilliant', 'bring', 'brink', 'britain', 'british', 'bro', 'broadcast', 'broadway', 'broke', 'broken', 'bronx', 'brook', 'brooklyn', 'brooklyn new', 'brooklyn new york', 'brother', 'brotherhood', 'brought', 'brown', 'brussel', 'brutal', 'bu', 'bubbl', 'budget', 'buffalo', 'bug', 'build', 'build wall', 'buildup', 'built', 'bull', 'bullet', 'bulli', 'bundi', 'bundi brother', 'bureaucrat', 'buri', 'burn', 'bush', 'busi', 'bust', 'button', 'buy', 'buzz', 'buzzfe', 'cabinet', 'cabl', 'cafe', 'cafe open', 'cafe open thread', 'cage', 'caitlyn', 'caitlyn jenner', 'cal', 'calai', 'california', 'california today', 'call', 'call end', 'call hillari', 'call trump', 'calm', 'cam', 'came', 'camera', 'camp', 'camp polic', 'campaign', 'campaign breitbart', 'campaign chair', 'campaign new', 'campaign new york', 'campaign promis', 'campaign tri', 'campaign tri hack', 'campu', 'campu breitbart', 'campus', 'canada', 'canadian', 'cancel', 'cancer', 'cancer cell', 'candid', 'cann', 'cannabi', 'cannot', 'cap', 'capabl', 'capit', 'capitol', 'captur', 'car', 'car crash', 'car new', 'car new york', 'carbon', 'card', 'care', 'care act', 'care act new', 'care bill', 'care breitbart', 'career', 'carlson', 'carolina', 'carri', 'carri fisher', 'carrier', 'carson', 'cartel', 'cartoon', 'case', 'case new', 'case new york', 'case testimoni', 'case testimoni pennsylvania', 'cash', 'cast', 'castro', 'casualti', 'cat', 'catastroph', 'catch', 'cathol', 'caucu', 'caught', 'caught tape', 'caus', 'cave', 'cb', 'cdc', 'ceas', 'ceas fire', 'celeb', 'celebr', 'cell', 'censor', 'censorship', 'cent', 'center', 'central', 'central bank', 'centuri', 'ceo', 'ceremoni', 'chaffetz', 'chain', 'chair', 'chairman', 'challeng', 'chamber', 'champion', 'championship', 'championship new', 'championship new york', 'chanc', 'chancellor', 'chang', 'chang new', 'chang new york', 'channel', 'chant', 'chao', 'chaotic', 'charact', 'charg', 'charg new', 'charg new york', 'charg obstruct', 'charg obstruct justic', 'chariti', 'charl', 'charleston', 'charlott', 'chart', 'chart day', 'charter', 'chase', 'cheap', 'cheat', 'check', 'check trump', 'cheer', 'chef', 'chelsea', 'chelsea clinton', 'chelsea man', 'chemic', 'chemic attack', 'chemic weapon', 'cher', 'chicago', 'chicken', 'chief', 'chief new', 'chief new york', 'child', 'child rape', 'child sex', 'children', 'chill', 'china', 'china new', 'china new york', 'china sea', 'chines', 'chip', 'choic', 'choke', 'choos', 'chri', 'chri christi', 'christ', 'christi', 'christian', 'christma', 'christoph', 'chuck', 'chuck todd', 'church', 'cia', 'circl', 'circuit', 'cite', 'citi', 'citi new', 'citi new york', 'citizen', 'citizenship', 'civil', 'civil right', 'civil unrest', 'civil unrest survey', 'civil war', 'civilian', 'ck', 'cking', 'claim', 'claim new', 'claim new york', 'clark', 'clash', 'class', 'classic', 'classifi', 'clean', 'clear', 'cleveland', 'click', 'climat', 'climat chang', 'clinton', 'clinton aid', 'clinton camp', 'clinton campaign', 'clinton campaign chair', 'clinton crime', 'clinton crime famili', 'clinton donald', 'clinton donald trump', 'clinton elect', 'clinton email', 'clinton email investig', 'clinton foundat', 'clinton inc', 'clinton investig', 'clinton new', 'clinton new york', 'clinton presid', 'clinton propos', 'clinton propos rig', 'clinton support', 'clinton trump', 'clinton vote', 'clinton win', 'close', 'closer', 'cloth', 'cloud', 'clown', 'club', 'clue', 'cnn', 'co', 'coach', 'coal', 'coalit', 'coast', 'coconut', 'code', 'codesod', 'cohen', 'cold', 'cold war', 'colin', 'colin kaepernick', 'collaps', 'collect', 'collect evolut', 'colleg', 'colleg new', 'colleg new york', 'colleg student', 'collid', 'collin', 'collud', 'collus', 'colombia', 'colon', 'color', 'color revolut', 'colorado', 'com', 'combat', 'combin', 'come', 'come back', 'come new', 'comedi', 'comedi central', 'comey', 'comey fire', 'comey letter', 'comfort', 'comic', 'command', 'comment', 'comment hillari', 'comment hillari clinton', 'commerci', 'commiss', 'commiss one', 'commiss one want', 'commission', 'commit', 'committe', 'common', 'common core', 'common ground', 'commun', 'communist', 'commut', 'compani', 'compar', 'compet', 'complain', 'complaint', 'complet', 'complex', 'complic', 'comput', 'con', 'conceal', 'conced', 'concern', 'concern elect', 'concern elect violenc', 'concert', 'concuss', 'condemn', 'condit', 'conduct', 'confer', 'confess', 'confid', 'confirm', 'confirm hear', 'conflict', 'confront', 'confus', 'congratul', 'congress', 'congress breitbart', 'congress new', 'congress new york', 'congression', 'congressman', 'connect', 'connecticut', 'conscious', 'consequ', 'conserv', 'conserv daili', 'conserv daili post', 'consid', 'conspiraci', 'conspiraci theori', 'constant', 'constitut', 'construct', 'consum', 'contact', 'contain', 'contamin', 'contest', 'continu', 'contract', 'contractor', 'contrarian', 'contrarian read', 'contribut', 'control', 'control new', 'control new york', 'controversi', 'convent', 'convent new', 'convent new york', 'convers', 'convict', 'conway', 'cook', 'cool', 'cooler', 'cooper', 'coordin', 'cop', 'cop killer', 'core', 'corner', 'corpor', 'correct', 'corrupt', 'cosbi', 'cost', 'costum', 'cotton', 'couch', 'could', 'could go', 'could go prison', 'coulter', 'council', 'counsel', 'count', 'counter', 'counti', 'countri', 'countri breitbart', 'coup', 'coupl', 'cours', 'court', 'court block', 'court new', 'court new york', 'court rule', 'court rule new', 'cover', 'coverag', 'cowboy', 'cox', 'cpac', 'crack', 'crackdown', 'craig', 'craig robert', 'crash', 'crash new', 'crash new york', 'craze', 'crazi', 'creamer', 'creat', 'creation', 'creativ', 'creator', 'credibl', 'credit', 'creepi', 'crew', 'cri', 'crime', 'crime breitbart', 'crime famili', 'crimin', 'crisi', 'crisi new', 'crisi new york', 'critic', 'critic new', 'crook', 'crook hillari', 'crop', 'cross', 'crossroad', 'crowd', 'crown', 'crucial', 'cruis', 'crumbl', 'crush', 'cruz', 'cub', 'cuba', 'cuban', 'cult', 'cultiv', 'cultur', 'cunningham', 'cuomo', 'cup', 'curb', 'cure', 'currenc', 'current', 'curs', 'custom', 'cut', 'cyber', 'cycl', 'da', 'dad', 'daesh', 'daili', 'daili contrarian', 'daili contrarian read', 'daili post', 'dakota', 'dakota access', 'dakota access pipelin', 'dakota pipelin', 'dalla', 'damag', 'damascu', 'damn', 'dan', 'danc', 'danger', 'daniel', 'dapl', 'dapl protest', 'dark', 'data', 'date', 'daughter', 'dave', 'davi', 'david', 'david duke', 'davo', 'day', 'day breitbart', 'day elect', 'day new', 'day new york', 'day one', 'day parad', 'dc', 'de', 'de blasio', 'de la', 'de lo', 'dea', 'dead', 'dead new', 'dead new york', 'deadli', 'deal', 'deal breitbart', 'deal new', 'deal new york', 'dean', 'dear', 'death', 'death new', 'death new york', 'death threat', 'debat', 'debat new', 'debat new york', 'debbi', 'debbi menon', 'debbi reynold', 'debt', 'debut', 'decad', 'decept', 'decid', 'decis', 'declar', 'declin', 'decor', 'deep', 'deep state', 'deepli', 'defeat', 'defeat oligarchi', 'defeat oligarchi rule', 'defend', 'defens', 'defens secretari', 'defi', 'defin', 'definit', 'defund', 'del', 'delay', 'delay suspend', 'delay suspend elect', 'delet', 'delingpol', 'deliv', 'dem', 'dem rep', 'dem sen', 'demand', 'dementia', 'democraci', 'democrat', 'democrat breitbart', 'democrat new', 'democrat new york', 'democrat parti', 'demon', 'demonetis', 'demonstr', 'den', 'deni', 'denial', 'denni', 'denounc', 'depart', 'departur', 'depend', 'depict', 'deplor', 'deploy', 'deport', 'deport breitbart', 'depress', 'dept', 'deputi', 'der', 'derail', 'descend', 'describ', 'desert', 'deserv', 'design', 'design fail', 'despair', 'desper', 'despit', 'destroy', 'destroy trump', 'destruct', 'detail', 'detain', 'detect', 'deterior', 'determin', 'detroit', 'deutsch', 'devast', 'develop', 'devic', 'devil', 'devo', 'devot', 'dh', 'diabet', 'dictat', 'die', 'die new', 'die new york', 'diego', 'diet', 'differ', 'dig', 'digit', 'dinner', 'dinucci', 'diplomat', 'direct', 'directli', 'director', 'director comey', 'director jame', 'director jame comey', 'dirti', 'disabl', 'disappear', 'disappoint', 'disast', 'disclos', 'disclosur', 'discov', 'discoveri', 'discrimin', 'discuss', 'diseas', 'disgrac', 'disgust', 'dismiss', 'disney', 'disord', 'disput', 'disrupt', 'dissent', 'distract', 'district', 'disturb', 'divers', 'divid', 'divis', 'divorc', 'dna', 'dnc', 'dnc chair', 'doctor', 'document', 'document reveal', 'documentari', 'dog', 'doj', 'dollar', 'domin', 'donald', 'donald trump', 'donald trump breitbart', 'donald trump call', 'donald trump campaign', 'donald trump elect', 'donald trump hillari', 'donald trump inaugur', 'donald trump new', 'donald trump presid', 'donald trump say', 'donald trump use', 'donald trump victori', 'donald trump win', 'donat', 'done', 'donna', 'donna brazil', 'donor', 'doom', 'door', 'dope', 'dossier', 'doubl', 'doubt', 'dow', 'dozen', 'dr', 'dr david', 'dr david duke', 'dr duke', 'dr eowyn', 'draft', 'drag', 'drain', 'drain swamp', 'drama', 'draw', 'dream', 'dress', 'dri', 'drill', 'drink', 'drink water', 'drive', 'drive car', 'driver', 'drone', 'drop', 'drought', 'drug', 'drug new', 'drug new york', 'drug test', 'drunk', 'duck', 'due', 'duke', 'dumb', 'dump', 'dunham', 'dutch', 'dutert', 'duti', 'dylan', 'dylann', 'dylann roof', 'ear', 'earli', 'earli vote', 'earn', 'earth', 'earthquak', 'eas', 'easi', 'east', 'easter', 'eastern', 'eastern outlook', 'eat', 'echo', 'econom', 'economi', 'economi new', 'economist', 'ecuador', 'ed', 'edg', 'edit', 'editor', 'educ', 'edward', 'edward snowden', 'effect', 'effort', 'effort new', 'effort new york', 'egg', 'egypt', 'egyptair', 'egyptian', 'eight', 'ein', 'either', 'el', 'elderli', 'elect', 'elect breitbart', 'elect campaign', 'elect day', 'elect donald', 'elect donald trump', 'elect fraud', 'elect hack', 'elect hillari', 'elect hillari forc', 'elect loss', 'elect new', 'elect new york', 'elect night', 'elect paul', 'elect paul craig', 'elect result', 'elect rig', 'elect trump', 'elect trump new', 'elect video', 'elect violenc', 'elector', 'elector colleg', 'electr', 'electron', 'electron vote', 'electron vote machin', 'eleph', 'elimin', 'elit', 'elizabeth', 'elizabeth warren', 'elon', 'elon musk', 'els', 'els new', 'els new york', 'email', 'email case', 'email clinton', 'email found', 'email investig', 'email reveal', 'email scandal', 'email show', 'embassi', 'embassi jerusalem', 'embrac', 'emerg', 'emf', 'emf damag', 'emiss', 'emmi', 'emot', 'emperor', 'empir', 'employ', 'employe', 'empti', 'en', 'en el', 'encount', 'encourag', 'end', 'end hillari', 'end hillari clinton', 'end new', 'end new york', 'endang', 'endors', 'endors donald', 'endors donald trump', 'endors hillari', 'endors hillari clinton', 'enemi', 'energi', 'enforc', 'engag', 'engin', 'england', 'england patriot', 'english', 'enough', 'enrag', 'ensur', 'enter', 'entertain', 'entir', 'envoy', 'eowyn', 'epa', 'epic', 'epidem', 'episod', 'equal', 'equiti', 'er', 'era', 'era new', 'era new york', 'eras', 'erdogan', 'eric', 'eric holder', 'error', 'erupt', 'es', 'escal', 'escap', 'espn', 'essenti', 'establish', 'estat', 'et', 'ethic', 'ethnic', 'eu', 'euro', 'europ', 'europ new', 'europ new york', 'european', 'european union', 'evacu', 'evan', 'evan mcmullin', 'evangel', 'eve', 'even', 'even brief', 'even brief new', 'event', 'event breitbart', 'ever', 'everi', 'everyon', 'everyth', 'everywher', 'evict', 'evid', 'evil', 'evolut', 'ex', 'examin', 'except', 'exchang', 'excit', 'exclus', 'exec', 'execut', 'execut order', 'execut order breitbart', 'exercis', 'exist', 'exit', 'expand', 'expans', 'expect', 'experi', 'expert', 'expert say', 'explain', 'explain new', 'explain new york', 'explod', 'exploit', 'explor', 'explos', 'expos', 'expos hillari', 'express', 'extend', 'extinct', 'extradit', 'extraordinari', 'extraterrestri', 'extrem', 'extremist', 'eye', 'face', 'face new', 'facebook', 'fact', 'fact check', 'faction', 'factori', 'fail', 'failur', 'fair', 'faith', 'fake', 'fake news', 'fake news breitbart', 'fake news new', 'fall', 'fallout', 'falluja', 'fals', 'fals flag', 'fame', 'fame star', 'famili', 'familiar', 'famou', 'fan', 'fantasi', 'far', 'far right', 'farag', 'farc', 'farewel', 'fargo', 'farm', 'farm grow', 'farmer', 'fascin', 'fascism', 'fascist', 'fashion', 'fast', 'fat', 'fatal', 'fatal shoot', 'fate', 'father', 'fault', 'favor', 'favorit', 'fbi', 'fbi agent', 'fbi clinton', 'fbi director', 'fbi director comey', 'fbi director jame', 'fbi email', 'fbi email investig', 'fbi investig', 'fbi reopen', 'fbi reopen hillari', 'fbi reopen investig', 'fda', 'fear', 'fear new', 'fear new york', 'fear trump', 'feast', 'feast cafe', 'feast cafe open', 'featur', 'fed', 'feder', 'feder govern', 'feder judg', 'feder reserv', 'federalist', 'fee', 'feed', 'feel', 'feel like', 'feet', 'feinstein', 'fellow', 'fema', 'femal', 'femin', 'feminist', 'fenc', 'ferguson', 'festiv', 'feud', 'fewer', 'fiction', 'fidel', 'fidel castro', 'field', 'fieri', 'fifth', 'fight', 'fight back', 'fight new', 'fight new york', 'fight terror', 'fight trump', 'fighter', 'figur', 'file', 'filibust', 'fill', 'fillon', 'film', 'filmmak', 'final', 'financ', 'financi', 'find', 'find american', 'find american concern', 'find new', 'find new york', 'fine', 'finger', 'finish', 'fire', 'fire breitbart', 'fire new', 'fire new york', 'firm', 'first', 'first day', 'first ladi', 'first time', 'fish', 'fisher', 'fit', 'fitton', 'five', 'fix', 'fl', 'flag', 'flare', 'flash', 'flashback', 'flaw', 'flee', 'fleet', 'fli', 'fli zone', 'flight', 'flight new', 'flight new york', 'flint', 'flip', 'float', 'flood', 'floor', 'flop', 'florida', 'flower', 'flu', 'fluorid', 'flynn', 'fmr', 'focu', 'focus', 'foe', 'fold', 'follow', 'food', 'fool', 'footag', 'footbal', 'forc', 'forc new', 'forc new fbi', 'ford', 'forecast', 'foreign', 'foreign polici', 'forest', 'forev', 'forget', 'forgotten', 'form', 'formal', 'former', 'former congressman', 'fort', 'fortun', 'forward', 'foster', 'found', 'found dead', 'found guilti', 'found new', 'found new york', 'foundat', 'founder', 'four', 'four year', 'fourth', 'fox', 'fox news', 'frack', 'fran', 'fran oi', 'fran oi fillon', 'franc', 'franc new', 'franc new york', 'franci', 'francisco', 'frank', 'franken', 'fraud', 'freak', 'free', 'free speech', 'freedom', 'freedom caucu', 'freedom rider', 'freez', 'french', 'french presidenti', 'fresh', 'friday', 'friday even', 'friday even brief', 'friend', 'friendli', 'front', 'front line', 'fs', 'ft', 'fuck', 'fuel', 'fukushima', 'full', 'fulli', 'fund', 'fundrais', 'funer', 'funni', 'furiou', 'futur', 'futur new', 'futur new york', 'ga', 'gaffney', 'gaga', 'gain', 'galaxi', 'galaxi note', 'game', 'game breitbart', 'game new', 'game new york', 'game throne', 'gang', 'gap', 'garden', 'gari', 'gari johnson', 'garner', 'gather', 'gave', 'gawker', 'gay', 'gaza', 'geert', 'geert wilder', 'gender', 'gene', 'gener', 'gener new', 'gener new york', 'genet', 'geniu', 'genocid', 'georg', 'georg michael', 'georg soro', 'georgia', 'german', 'germani', 'get', 'get back', 'get new', 'get readi', 'get readi civil', 'ghost', 'giant', 'gift', 'gingrich', 'girl', 'giuliani', 'give', 'given', 'glass', 'glenn', 'glitch', 'global', 'global warm', 'globalist', 'globe', 'gm', 'gmo', 'go', 'go back', 'go full', 'go new', 'go new york', 'go prison', 'go prison year', 'goal', 'god', 'goe', 'gold', 'gold silver', 'golden', 'golden globe', 'golden state', 'golden state warrior', 'goldman', 'goldman sach', 'golf', 'gone', 'good', 'goodel', 'googl', 'googl facebook', 'gop', 'gop rep', 'gop sen', 'gop senat', 'gore', 'gorka', 'gorsuch', 'gorsuch breitbart', 'gorsuch confirm', 'got', 'gov', 'govern', 'govern new', 'govern new york', 'governor', 'govt', 'gowdi', 'grab', 'grab musket', 'grace', 'graham', 'grammi', 'grand', 'grave', 'gray', 'great', 'greater', 'greatest', 'greec', 'greek', 'green', 'grid', 'griffin', 'grip', 'ground', 'group', 'grow', 'grow new', 'grow new york', 'growth', 'gruber', 'guant', 'guant namo', 'guard', 'guardian', 'guardian liberti', 'guardian liberti voic', 'guess', 'guest', 'guez', 'guid', 'guilt', 'guilti', 'gulf', 'gun', 'gun control', 'gunman', 'gut', 'guy', 'gym', 'gymnast', 'ha', 'habit', 'hack', 'hack new', 'hack new york', 'hack wikileak', 'hacker', 'hail', 'hair', 'haiti', 'haley', 'half', 'hall', 'halloween', 'halt', 'hama', 'hamilton', 'hammer', 'hampshir', 'hand', 'handl', 'handler', 'hang', 'hanniti', 'happen', 'happi', 'haram', 'harass', 'harbor', 'hard', 'hardest', 'harm', 'harri', 'harri reid', 'harsh', 'harvard', 'harvey', 'hat', 'hate', 'hate crime', 'hate speech', 'hater', 'haunt', 'hawk', 'hbo', 'head', 'headlin', 'headquart', 'heal', 'health', 'health benefit', 'health bill', 'health care', 'health care bill', 'health insur', 'health law', 'healthcar', 'healthcar bill', 'healthi', 'hear', 'hear new', 'hear new york', 'heard', 'heart', 'heart new', 'heart new york', 'heat', 'heavi', 'hedg', 'hedg fund', 'held', 'hell', 'help', 'help trump', 'herb', 'hero', 'heroin', 'hidden', 'hide', 'high', 'high school', 'higher', 'highest', 'highlight', 'hijab', 'hijack', 'hike', 'hilari', 'hill', 'hillari', 'hillari campaign', 'hillari clinton', 'hillari clinton campaign', 'hillari clinton charg', 'hillari clinton donald', 'hillari clinton email', 'hillari clinton new', 'hillari clinton propos', 'hillari clinton vote', 'hillari elect', 'hillari email', 'hillari forc', 'hillari forc new', 'hillari investig', 'hillari support', 'hillari win', 'hint', 'hip', 'hire', 'hispan', 'histor', 'histori', 'histori new', 'histori new york', 'hit', 'hitler', 'hoax', 'hockey', 'hodg', 'hold', 'holder', 'hole', 'holi', 'holiday', 'hollywood', 'hollywood star', 'holocaust', 'home', 'home invas', 'home new', 'home new york', 'homeland', 'homeland secur', 'homeless', 'homeless man', 'homeless woman', 'hometown', 'honest', 'hong', 'hong kong', 'honor', 'hope', 'horizon', 'horribl', 'horrifi', 'horror', 'hors', 'hospit', 'host', 'hostag', 'hot', 'hotel', 'hour', 'hous', 'hous breitbart', 'hous new', 'hous new york', 'hous republican', 'houston', 'howard', 'hq', 'huffington', 'hug', 'huge', 'huma', 'huma abedin', 'human', 'human right', 'human right council', 'humanitarian', 'humili', 'hundr', 'hungari', 'hunger', 'hunt', 'hunter', 'hurrican', 'hurrican matthew', 'hurt', 'husband', 'hybrid', 'hypocrisi', 'ice', 'iceland', 'icon', 'id', 'idaho', 'idea', 'ident', 'ident polit', 'identifi', 'ideolog', 'idiot', 'ignor', 'ii', 'iii', 'ill', 'illeg', 'illeg alien', 'illeg alien muslim', 'illeg immigr', 'illeg vote', 'illuminati', 'im', 'imag', 'imam', 'immedi', 'immigr', 'immigr order', 'immigr polici', 'immun', 'impact', 'impeach', 'imperi', 'implod', 'import', 'impos', 'imposs', 'improv', 'inaugur', 'inaugur speech', 'inc', 'incid', 'incit', 'incit violenc', 'includ', 'incom', 'increas', 'incred', 'independ', 'india', 'indian', 'indiana', 'indict', 'individu', 'industri', 'inequ', 'infant', 'infect', 'infidel', 'infiltr', 'influenc', 'influenti', 'info', 'inform', 'inherit', 'inject', 'injur', 'injuri', 'inmat', 'inner', 'innoc', 'inquiri', 'inquiri new', 'inquiri new york', 'insan', 'insid', 'insist', 'inspir', 'instagram', 'instal', 'instead', 'institut', 'insult', 'insur', 'integr', 'intel', 'intellig', 'intend', 'intensifi', 'intent', 'interest', 'interest rate', 'interf', 'intern', 'internet', 'interview', 'intimid', 'introduc', 'invad', 'invas', 'invent', 'invest', 'investig', 'investig breitbart', 'investig clinton', 'investig end', 'investig hillari', 'investig hillari clinton', 'investig new', 'investig new york', 'investig trump', 'investor', 'invis', 'invit', 'involv', 'iowa', 'iphon', 'ir', 'iran', 'iranian', 'iraq', 'iraqi', 'iraqi armi', 'iraqi forc', 'iraqi troop', 'ireland', 'irish', 'isi', 'isi new', 'isi new york', 'islam', 'islam state', 'islam state support', 'islamist', 'islamophobia', 'island', 'isol', 'isra', 'isra settlement', 'israel', 'issu', 'issu new', 'issu new york', 'ist', 'istanbul', 'itali', 'italian', 'iv', 'ivanka', 'ivanka trump', 'jack', 'jacki', 'jackson', 'jail', 'jake', 'jame', 'jame comey', 'jane', 'janet', 'januari', 'japan', 'japanes', 'jare', 'jare kushner', 'jason', 'jason chaffetz', 'jay', 'jazz', 'jeanin', 'jeff', 'jeff session', 'jenner', 'jerri', 'jerri brown', 'jersey', 'jerusalem', 'jesu', 'jet', 'jew', 'jewish', 'jihad', 'jihadi', 'jihadist', 'jill', 'jill stein', 'jim', 'jimmi', 'jinp', 'jo', 'job', 'job breitbart', 'job new', 'job new york', 'joe', 'john', 'john bolton', 'john kerri', 'john mccain', 'john podesta', 'johnson', 'johnson johnson', 'join', 'joint', 'joke', 'jon', 'jone', 'jong', 'jong nam', 'jong un', 'jordan', 'journal', 'journalist', 'journey', 'joy', 'jr', 'judg', 'judg jeanin', 'judg order', 'judgment', 'judici', 'julian', 'julian assang', 'jump', 'jungl', 'junk', 'juri', 'justic', 'justic depart', 'justic dept', 'justin', 'kabul', 'kaepernick', 'kain', 'kansa', 'kany', 'kany west', 'kathi', 'kathi griffin', 'kati', 'keef', 'keep', 'keith', 'kelli', 'kellogg', 'kellyann', 'kellyann conway', 'ken', 'kennedi', 'kenya', 'kerri', 'kevin', 'key', 'khan', 'kick', 'kid', 'kidnap', 'kiev', 'kill', 'kill cancer', 'kill civilian', 'kill least', 'kill new', 'kill new york', 'killer', 'kim', 'kim jong', 'kim jong nam', 'kim jong un', 'kind', 'king', 'kkk', 'knew', 'knife', 'knock', 'know', 'know know', 'know new', 'know new york', 'known', 'koch', 'koch brother', 'kong', 'korea', 'korea new', 'korea new york', 'korean', 'krauthamm', 'kremlin', 'kurd', 'kurdish', 'kushner', 'kuznetsov', 'la', 'la la', 'la la land', 'la land', 'la vega', 'lab', 'label', 'labor', 'labour', 'lack', 'laden', 'ladi', 'ladi gaga', 'lago', 'lake', 'land', 'landmark', 'landscap', 'landslid', 'lane', 'languag', 'laptop', 'larg', 'larger', 'largest', 'larri', 'lash', 'last', 'last year', 'late', 'later', 'latest', 'latin', 'latino', 'lauderdal', 'laugh', 'launch', 'launder', 'law', 'law breitbart', 'law enforc', 'law new', 'law new york', 'lawmak', 'lawsuit', 'lawyer', 'lawyer say', 'lay', 'layoff', 'le', 'le pen', 'lead', 'lead new', 'leader', 'leader acquit', 'leader new', 'leader new york', 'leadership', 'leagu', 'leak', 'leak audio', 'leak email', 'leaker', 'learn', 'least', 'leav', 'lectur', 'led', 'lee', 'left', 'left behind', 'left wing', 'leftist', 'leg', 'legaci', 'legal', 'legend', 'legisl', 'legitim', 'lemon', 'lena', 'lena dunham', 'leonard', 'less', 'lesson', 'let', 'let go', 'let go new', 'letter', 'level', 'levin', 'lewd', 'lewi', 'lgbt', 'liar', 'lib', 'liber', 'libertarian', 'liberti', 'liberti voic', 'liberti writer', 'liberti writer news', 'libya', 'libyan', 'licens', 'lie', 'life', 'life new', 'life new york', 'lift', 'light', 'like', 'limbaugh', 'limit', 'linda', 'linda sarsour', 'line', 'line new', 'line new york', 'link', 'liquid', 'list', 'listen', 'listen new', 'listen new york', 'lite', 'liter', 'littl', 'live', 'live blog', 'live matter', 'live new', 'live new york', 'live stream', 'live tv', 'lo', 'lo angel', 'loan', 'lobbi', 'local', 'locht', 'lock', 'london', 'london attack', 'long', 'long island', 'longer', 'look', 'look like', 'loot', 'lord', 'loretta', 'loretta lynch', 'lose', 'lose grab', 'lose grab musket', 'loser', 'loss', 'loss new', 'loss new york', 'lost', 'lot', 'loui', 'louisiana', 'louvr', 'love', 'lover', 'low', 'lower', 'loyalti', 'lure', 'luxuri', 'lynch', 'machin', 'machin new', 'machin new york', 'macron', 'mad', 'maddow', 'made', 'madonna', 'maduro', 'magazin', 'magic', 'maher', 'mail', 'main', 'mainstream', 'mainstream media', 'major', 'make', 'make america', 'make america great', 'make new', 'make new york', 'maker', 'makeup', 'malaysia', 'male', 'malheur', 'malheur wildlif', 'malheur wildlif refug', 'mall', 'man', 'man new', 'man new york', 'manag', 'manchest', 'manchin', 'mandat', 'manhattan', 'mani', 'manipul', 'manlio', 'manlio dinucci', 'manuel', 'manufactur', 'map', 'mar', 'mar lago', 'marathon', 'march', 'marcher', 'marco', 'marco rubio', 'mari', 'marijuana', 'marin', 'marin le', 'marin le pen', 'mark', 'mark zuckerberg', 'market', 'market new', 'market new york', 'marlow', 'marri', 'marriag', 'martin', 'marvel', 'maryland', 'mask', 'mason', 'mass', 'mass migrat', 'massacr', 'massiv', 'master', 'match', 'materi', 'math', 'matrix', 'matter', 'matthew', 'matti', 'maxin', 'maxin water', 'may', 'mayb', 'mayhem', 'mayor', 'mayor de', 'mayor de blasio', 'mccain', 'mcconnel', 'mcilroy', 'mcmullin', 'mean', 'measur', 'meat', 'meddl', 'media', 'media breitbart', 'media new', 'media new york', 'medic', 'medic marijuana', 'medicaid', 'medicin', 'medit', 'mediterranean', 'meet', 'meet new', 'megyn', 'megyn kelli', 'melania', 'melania trump', 'melt', 'meltdown', 'member', 'meme', 'memo', 'memori', 'memori day', 'men', 'menon', 'mental', 'mental health', 'mental ill', 'mention', 'merger', 'merkel', 'meryl', 'meryl streep', 'mess', 'messag', 'met', 'meter', 'meter case', 'meter case testimoni', 'method', 'metro', 'mexican', 'mexican border', 'mexican cartel', 'mexico', 'meyssan', 'miami', 'michael', 'michael flynn', 'michael moor', 'michael phelp', 'michel', 'michel obama', 'michigan', 'microsoft', 'middl', 'middl class', 'middl east', 'might', 'migrant', 'migrant crisi', 'migrat', 'mike', 'mike penc', 'mile', 'milit', 'militar', 'militar polic', 'militari', 'militari new', 'militari new york', 'militia', 'milk', 'millenni', 'miller', 'million', 'million dollar', 'million new', 'million new york', 'milo', 'milo breitbart', 'milo event', 'milo yiannopoulo', 'mind', 'mine', 'miner', 'minist', 'minnesota', 'minor', 'minut', 'miracl', 'mirror', 'misconduct', 'mislead', 'miss', 'miss new', 'miss new york', 'missil', 'missil strike', 'mission', 'mississippi', 'mistak', 'mit', 'mitchel', 'mitt', 'mitt romney', 'mix', 'mnuchin', 'mob', 'mobil', 'mock', 'model', 'model new', 'model new york', 'moder', 'modern', 'modi', 'mom', 'moment', 'monday', 'monday brief', 'monday brief new', 'monday even', 'monday even brief', 'monetari', 'money', 'money new', 'money new york', 'monitor', 'monkey', 'monopoli', 'monsanto', 'monster', 'month', 'month new', 'month new york', 'monument', 'moon', 'moonlight', 'moor', 'moral', 'morn', 'morn brief', 'morn brief new', 'moscow', 'mosqu', 'mostli', 'mosul', 'mother', 'motiv', 'mount', 'mourn', 'mouth', 'move', 'move embassi', 'moveabl', 'moveabl feast', 'moveabl feast cafe', 'movement', 'movi', 'mp', 'mr', 'ms', 'msm', 'msnbc', 'much', 'muhammad', 'muhammad ali', 'multipl', 'mulvaney', 'murder', 'museum', 'music', 'musk', 'musket', 'muslim', 'muslim brotherhood', 'muslim immigr', 'muslim invad', 'muslim migrant', 'muslim refuge', 'muslim women', 'must', 'must see', 'myanmar', 'mysteri', 'myth', 'nafta', 'nail', 'nam', 'name', 'name new', 'namo', 'nanci', 'nanci pelosi', 'narendra', 'narendra modi', 'narr', 'nasa', 'nasti', 'nat', 'nation', 'nation anthem', 'nation new', 'nation new york', 'nation secur', 'nation secur advis', 'nationalist', 'nationwid', 'nativ', 'nativ american', 'nato', 'natur', 'naval', 'navi', 'navi seal', 'navig', 'nazi', 'nbc', 'nc', 'ncaa', 'nd', 'near', 'near texa', 'near texa border', 'nearli', 'necessari', 'need', 'need know', 'neg', 'negoti', 'neighbor', 'neighborhood', 'neil', 'neil gorsuch', 'neocon', 'net', 'netanyahu', 'netflix', 'network', 'neutral', 'nevada', 'never', 'new', 'new clinton', 'new clinton email', 'new eastern', 'new eastern outlook', 'new email', 'new england', 'new england patriot', 'new era', 'new evid', 'new fbi', 'new fbi email', 'new hampshir', 'new jersey', 'new moon', 'new poll', 'new presid', 'new realiti', 'new report', 'new video', 'new way', 'new world', 'new world order', 'new year', 'new year eve', 'new york', 'new york citi', 'new york new', 'new york state', 'new york time', 'new yorker', 'new zealand', 'newli', 'news', 'news breitbart', 'news cnn', 'news daili', 'news media', 'news new', 'news new york', 'news trump', 'newspap', 'newstick', 'newt', 'next', 'next week', 'next year', 'nfl', 'nice', 'night', 'night live', 'night new', 'night new york', 'nightclub', 'nightmar', 'nikki', 'nikki haley', 'nine', 'nintendo', 'nobel', 'nobel prize', 'nobodi', 'nomin', 'nomine', 'non', 'normal', 'north', 'north carolina', 'north dakota', 'north korea', 'north korean', 'norway', 'note', 'noth', 'notic', 'nov', 'novel', 'novemb', 'novemb daili', 'novemb daili contrarian', 'nowher', 'nra', 'nsa', 'nuclear', 'nuclear deal', 'nuclear option', 'nuclear war', 'nuclear weapon', 'nude', 'nuke', 'number', 'nune', 'nurs', 'nusra', 'nut', 'ny', 'nyc', 'nypd', 'nyt', 'oakland', 'oath', 'obama', 'obama admin', 'obama administr', 'obama breitbart', 'obama clinton', 'obama doj', 'obama era', 'obama new', 'obama say', 'obamacar', 'obamacar architect', 'obamacar breitbart', 'obamacar design', 'obamacar lite', 'obamacar repeal', 'obamacar replac', 'obes', 'object', 'observ', 'obsess', 'obstruct', 'obstruct justic', 'obviou', 'occupi', 'ocean', 'oct', 'octob', 'octob surpris', 'odd', 'offend', 'offens', 'offer', 'offic', 'offic new', 'offic new york', 'offici', 'offici say', 'offici say new', 'often', 'oh', 'ohio', 'oi', 'oi fillon', 'oil', 'oklahoma', 'old', 'old girl', 'oldest', 'oligarch', 'oligarchi', 'oligarchi rule', 'oliv', 'olymp', 'olymp new', 'olymp new york', 'omar', 'one', 'one day', 'one new', 'one new york', 'one step', 'one want', 'one want acknowledg', 'onlin', 'op', 'opec', 'open', 'open border', 'open door', 'open fire', 'open letter', 'open new', 'open new york', 'open thread', 'oper', 'oper new', 'opinion', 'opinion conserv', 'opioid', 'oppon', 'opportun', 'oppos', 'oppos trump', 'opposit', 'optim', 'option', 'orang', 'order', 'order breitbart', 'order new', 'order new york', 'oregon', 'oregon standoff', 'organ', 'origin', 'orlando', 'orlando shoot', 'orlean', 'orovil', 'os', 'oscar', 'other', 'oust', 'outbreak', 'outcom', 'outcri', 'outlet', 'outlook', 'outrag', 'outsid', 'oval', 'oval offic', 'overhaul', 'overnight', 'oversea', 'overturn', 'overwhelm', 'owe', 'own', 'owner', 'pa', 'pac', 'pacif', 'pack', 'page', 'paid', 'pain', 'paint', 'pakistan', 'pakistani', 'palestin', 'palestin elect', 'palestinian', 'palin', 'palm', 'pan', 'panama', 'panel', 'panic', 'panther', 'paper', 'paper ballot', 'par', 'para', 'parad', 'pardon', 'parent', 'parenthood', 'pari', 'pari agreement', 'pari climat', 'park', 'parliament', 'part', 'parti', 'parti new', 'parti new york', 'partial', 'partisan', 'partner', 'pass', 'passag', 'passeng', 'passion', 'passport', 'past', 'past new', 'past new york', 'pastor', 'pat', 'path', 'path new', 'path new york', 'patholog', 'patient', 'patriot', 'patriot act', 'patrol', 'patrol agent', 'pattern', 'paul', 'paul craig', 'paul craig robert', 'paul ryan', 'paul ryan obamacar', 'paul ryan rel', 'paus', 'pay', 'pay million', 'pay play', 'payer', 'payment', 'payrol', 'pc', 'peac', 'peak', 'peanut', 'pearl', 'pearl harbor', 'pedophil', 'pelosi', 'pen', 'penalti', 'penc', 'penguin', 'penn', 'pennsylvania', 'pennsylvania public', 'pennsylvania public util', 'pentagon', 'peopl', 'peopl breitbart', 'peopl defeat', 'peopl defeat oligarchi', 'peopl new', 'peopl new york', 'per', 'percent', 'percentfedup', 'percentfedup com', 'perez', 'perfect', 'perform', 'perhap', 'peril', 'perman', 'permit', 'persist', 'person', 'person new', 'person new york', 'peter', 'peter thiel', 'petit', 'pharma', 'phase', 'phelp', 'phil', 'philadelphia', 'philippin', 'phone', 'phoni', 'photo', 'physic', 'physicist', 'pic', 'pick', 'pictur', 'piec', 'pig', 'pilger', 'pill', 'pilot', 'pimp', 'pin', 'pink', 'pioneer', 'pipelin', 'pipelin protest', 'pirat', 'piss', 'pitch', 'place', 'plagu', 'plan', 'plan new', 'plan new york', 'plan parenthood', 'plane', 'plane crash', 'planet', 'plant', 'plastic', 'play', 'player', 'playoff', 'plea', 'plead', 'plead guilti', 'pleas', 'pledg', 'plot', 'plu', 'plummet', 'pm', 'pm water', 'pm water cooler', 'podcast', 'podesta', 'podesta email', 'podestaemail', 'point', 'pois', 'poison', 'poland', 'polic', 'polic arrest', 'polic chief', 'polic new', 'polic new york', 'polic offic', 'polic say', 'polic say new', 'polic shoot', 'polici', 'polici breitbart', 'polici new', 'polici new york', 'polit', 'polit correct', 'polit new', 'polit new york', 'politic', 'politician', 'politico', 'poll', 'poll number', 'poll show', 'poll station', 'pollut', 'pool', 'poor', 'pop', 'pope', 'pope franci', 'popul', 'popular', 'popular vote', 'populist', 'por', 'porn', 'port', 'portrait', 'portray', 'pose', 'posit', 'possess', 'possibl', 'post', 'post elect', 'post new', 'post new york', 'poster', 'pot', 'potenti', 'potu', 'pound', 'pour', 'powder', 'power', 'power new', 'power new york', 'pr', 'practic', 'prais', 'pray', 'prayer', 'pre', 'predict', 'predict trump', 'prefer', 'pregnanc', 'pregnant', 'premier', 'premium', 'prep', 'prepar', 'prescript', 'presenc', 'present', 'preserv', 'presid', 'presid breitbart', 'presid donald', 'presid donald trump', 'presid elect', 'presid elect trump', 'presid new', 'presid new york', 'presid obama', 'presid trump', 'presid trump breitbart', 'presidenti', 'presidenti candid', 'presidenti debat', 'presidenti elect', 'presidenti race', 'press', 'press breitbart', 'press confer', 'presstitut', 'pressur', 'pretti', 'prevent', 'preview', 'previous', 'price', 'price new', 'price new york', 'pride', 'priebu', 'priest', 'primari', 'prime', 'prime minist', 'primer', 'princ', 'princip', 'print', 'prioriti', 'prison', 'prison new', 'prison new york', 'privaci', 'privat', 'privat email', 'privileg', 'prize', 'pro', 'pro life', 'pro trump', 'probabl', 'probe', 'problem', 'problem new', 'problem new york', 'process', 'produc', 'product', 'prof', 'profession', 'professor', 'profil', 'profit', 'program', 'progress', 'project', 'project verita', 'project verita video', 'promin', 'promis', 'promot', 'prompt', 'proof', 'propaganda', 'properti', 'propos', 'propos rig', 'prosecut', 'prosecutor', 'prostat', 'protect', 'protector', 'protest', 'protest breitbart', 'protest clash', 'protest new', 'protest polic', 'protest trump', 'proud', 'prove', 'proven', 'provid', 'provok', 'pruitt', 'ptsd', 'public', 'public school', 'public util', 'public util commiss', 'publish', 'puerto', 'pull', 'puls', 'punch', 'pundit', 'punish', 'puppet', 'purchas', 'pure', 'purg', 'purpos', 'push', 'pussi', 'put', 'put america', 'put america first', 'putin', 'qaeda', 'quak', 'quarter', 'que', 'quebec', 'queen', 'question', 'question trump', 'quick', 'quickli', 'quiet', 'quietli', 'quit', 'quot', 'race', 'race new', 'race new york', 'rachel', 'rachel maddow', 'racial', 'racism', 'racist', 'radic', 'radio', 'rage', 'raid', 'rail', 'rain', 'rais', 'ralli', 'ram', 'rampag', 'rand', 'rand paul', 'rang', 'ransom', 'rant', 'rap', 'rape', 'rapist', 'rapper', 'raqqa', 'rare', 'rate', 'rather', 'rattl', 'raw', 'rd', 'reach', 'react', 'reaction', 'read', 'reader', 'readi', 'readi civil', 'readi civil unrest', 'readi go', 'reagan', 'real', 'real reason', 'realiti', 'realiz', 'realli', 'reason', 'reason vote', 'rebel', 'rebuild', 'rebuk', 'recal', 'receiv', 'recent', 'recess', 'recip', 'recommend', 'record', 'recount', 'recov', 'recoveri', 'recruit', 'red', 'redston', 'reduc', 'referendum', 'reflect', 'reform', 'refug', 'refuge', 'refus', 'regim', 'regim chang', 'region', 'regist', 'regret', 'regul', 'reid', 'reign', 'reilli', 'rein', 'reinc', 'reinc priebu', 'reinstat', 'reject', 'rel', 'relat', 'relationship', 'relax', 'releas', 'relief', 'religi', 'religi freedom', 'religion', 'remain', 'remark', 'remedi', 'rememb', 'remind', 'remov', 'renew', 'reno', 'rent', 'reopen', 'reopen hillari', 'reopen investig', 'rep', 'repair', 'repeal', 'repeal breitbart', 'repeal obamacar', 'repeat', 'repeatedli', 'replac', 'replac bill', 'report', 'report ask', 'report breitbart', 'report find', 'report new', 'report new york', 'report novemb', 'report obama', 'report say', 'report say new', 'report trump', 'repres', 'republ', 'republican', 'republican new', 'republican new york', 'republican parti', 'request', 'requir', 'rescu', 'research', 'reserv', 'reset', 'reshap', 'resid', 'resign', 'resist', 'resolut', 'resourc', 'respect', 'respond', 'respons', 'respons trump', 'restaur', 'restor', 'restrict', 'result', 'resum', 'retail', 'retak', 'retali', 'rethink', 'retir', 'return', 'reveal', 'reveal clinton', 'reveal hillari', 'revel', 'reveng', 'revers', 'review', 'reviv', 'revok', 'revolt', 'revolut', 'reward', 'rex', 'rex tillerson', 'reynold', 'rhetor', 'rice', 'rich', 'richard', 'rick', 'rico', 'rid', 'ride', 'rider', 'ridicul', 'rift', 'rig', 'rig elect', 'rig palestin', 'rig palestin elect', 'right', 'right breitbart', 'right council', 'right new', 'right new york', 'right wing', 'ring', 'rio', 'rio olymp', 'riot', 'riot breitbart', 'rip', 'rise', 'risk', 'ritual', 'rival', 'river', 'road', 'roar', 'rob', 'robberi', 'robert', 'robot', 'rock', 'rock protest', 'rocket', 'rocki', 'rodr', 'rodr guez', 'rodrigo', 'rodrigo dutert', 'roger', 'roger ail', 'rogu', 'role', 'roll', 'roman', 'rome', 'romney', 'ron', 'ron paul', 'roof', 'room', 'root', 'rori', 'rose', 'ross', 'roug', 'round', 'rout', 'row', 'rt', 'rubio', 'ruin', 'rule', 'rule breitbart', 'rule new', 'rule new york', 'run', 'run new', 'runway', 'rural', 'rush', 'russia', 'russia new', 'russia new york', 'russia probe', 'russia tie', 'russian', 'russian ambassador', 'russian border', 'russian hack', 'russian hacker', 'russophobia', 'ryan', 'ryan locht', 'ryan obamacar', 'ryan obamacar lite', 'ryan rel', 'ryancar', 'sabotag', 'sach', 'sad', 'safe', 'safe space', 'safeti', 'said', 'saint', 'saker', 'sale', 'salt', 'samantha', 'samantha bee', 'sampl', 'samsung', 'san', 'san diego', 'san francisco', 'sanction', 'sanctuari', 'sanctuari citi', 'sand', 'sander', 'santa', 'sarah', 'sarah palin', 'sarsour', 'satan', 'satellit', 'satir', 'saturday', 'saturday night', 'saturday night live', 'saudi', 'saudi arabia', 'saudi arabian', 'savag', 'save', 'saw', 'say', 'say hillari', 'say new', 'say new york', 'say polic', 'say trump', 'scale', 'scalia', 'scalis', 'scam', 'scandal', 'scandal breitbart', 'scandal new', 'scandal new york', 'scarborough', 'scare', 'scari', 'scene', 'schedul', 'scheme', 'school', 'school new', 'school new york', 'schumer', 'schwarzenegg', 'schweizer', 'scienc', 'scientist', 'scientist say', 'scold', 'score', 'scorpio', 'scotland', 'scott', 'scott pruitt', 'scotu', 'scrambl', 'scream', 'screen', 'screw', 'script', 'scrutini', 'se', 'sea', 'sea new', 'sea new york', 'seal', 'sean', 'sean hanniti', 'sean spicer', 'sear', 'search', 'season', 'season episod', 'season new', 'season new york', 'seat', 'seattl', 'second', 'second amend', 'secreci', 'secret', 'secret servic', 'secretari', 'secretari new', 'secretari new york', 'secretari state', 'secretli', 'secur', 'secur advis', 'secur council', 'see', 'seek', 'seeker', 'seem', 'seen', 'segment', 'segreg', 'seiz', 'select', 'self', 'self drive', 'self drive car', 'selfi', 'sell', 'semit', 'sen', 'senat', 'senat breitbart', 'senat confirm', 'send', 'senior', 'sens', 'sent', 'sentenc', 'separ', 'seri', 'serial', 'seriou', 'serious', 'serv', 'server', 'servic', 'session', 'set', 'settl', 'settlement', 'settlement new', 'settlement new york', 'seven', 'sever', 'sex', 'sex offend', 'sex scandal', 'sexist', 'sext', 'sexual', 'sexual abus', 'sexual assault', 'sh', 'shadow', 'shadow govern', 'shake', 'shame', 'shape', 'share', 'sharia', 'shark', 'sharp', 'shatter', 'shelter', 'sheriff', 'shield', 'shift', 'shine', 'shinzo', 'shinzo abe', 'ship', 'shirt', 'shock', 'shock new', 'shock video', 'shocker', 'shoe', 'shoot', 'shoot new', 'shoot new york', 'shooter', 'shop', 'short', 'shortag', 'shot', 'shot fire', 'shout', 'show', 'show clinton', 'show new', 'show new york', 'show trump', 'showdown', 'shut', 'shutdown', 'sich', 'sick', 'side', 'sie', 'sieg', 'sight', 'sign', 'signal', 'signific', 'significantli', 'silenc', 'silent', 'silent coup', 'silicon', 'silicon valley', 'silver', 'simon', 'simpl', 'sinc', 'sinc cold', 'sinc cold war', 'sing', 'singer', 'singl', 'sink', 'sioux', 'sister', 'sit', 'site', 'situat', 'six', 'size', 'sjw', 'skeptic', 'skill', 'skin', 'skip', 'sky', 'skyrocket', 'slam', 'slap', 'slash', 'slave', 'slaveri', 'sleep', 'slide', 'slip', 'slow', 'slur', 'slush', 'small', 'small town', 'smart', 'smart meter', 'smart meter case', 'smash', 'smear', 'smell', 'smile', 'smith', 'smoke', 'smoke gun', 'smuggler', 'snap', 'snapchat', 'snl', 'snow', 'snowden', 'snowflak', 'snub', 'soar', 'soccer', 'social', 'social media', 'socialist', 'societi', 'soda', 'softwar', 'solar', 'sold', 'soldier', 'solut', 'solv', 'somali', 'somalia', 'someon', 'someth', 'sometim', 'son', 'son law', 'song', 'soon', 'soro', 'soro fund', 'sorri', 'sort', 'soul', 'sound', 'sourc', 'south', 'south africa', 'south carolina', 'south china', 'south china sea', 'south korea', 'south korean', 'southern', 'space', 'spacex', 'spain', 'spanish', 'spark', 'speak', 'speaker', 'speaker paul', 'speaker paul ryan', 'speci', 'special', 'special prosecutor', 'specul', 'speech', 'speech breitbart', 'speech new', 'speech new york', 'speed', 'spend', 'spent', 'spi', 'spicer', 'spike', 'spill', 'spin', 'spiral', 'spirit', 'spiritu', 'split', 'sport', 'sport new', 'sport new york', 'spot', 'spotlight', 'spray', 'spread', 'spring', 'spur', 'squar', 'st', 'stab', 'staff', 'staffer', 'stage', 'stake', 'stall', 'stamp', 'stanc', 'stand', 'stand rock', 'stand rock protest', 'standard', 'standoff', 'stanford', 'star', 'star new', 'star new york', 'stark', 'start', 'start new', 'start new york', 'state', 'state blue', 'state breitbart', 'state depart', 'state dept', 'state new', 'state new york', 'state support', 'state warrior', 'statement', 'station', 'statu', 'stay', 'steadi', 'steal', 'steal elect', 'steal trump', 'steel', 'stein', 'stem', 'step', 'step new', 'step new york', 'stephen', 'stephen bannon', 'steve', 'steve bannon', 'steven', 'stewart', 'stick', 'still', 'stir', 'stock', 'stock market', 'stockholm', 'stole', 'stolen', 'stone', 'stop', 'store', 'stori', 'stori new', 'stori new york', 'storm', 'straight', 'strain', 'strand', 'strang', 'strategi', 'strategist', 'stream', 'streep', 'street', 'street journal', 'street new', 'street new york', 'streisand', 'strength', 'strengthen', 'stress', 'stretch', 'strict', 'strike', 'strike syria', 'strip', 'strong', 'struggl', 'student', 'student new', 'student new york', 'studi', 'studi find', 'stuff', 'stumbl', 'stun', 'stupid', 'style', 'su', 'subject', 'subscrib', 'suburb', 'subway', 'success', 'suck', 'suddenli', 'sue', 'sue trump', 'suffer', 'suggest', 'suicid', 'suit', 'summer', 'summit', 'sun', 'sunday', 'super', 'super bowl', 'suppli', 'support', 'support donald', 'support donald trump', 'support new', 'support trump', 'suppos', 'suppress', 'suprem', 'suprem court', 'suprem court new', 'sure', 'surfac', 'surg', 'surpris', 'surrog', 'surround', 'surveil', 'survey', 'survey find', 'survey find american', 'surviv', 'survivor', 'susan', 'susan rice', 'suspect', 'suspend', 'suspend elect', 'suspend elect hillari', 'sustain', 'swamp', 'sweden', 'swedish', 'sweep', 'swift', 'swim', 'swimmer', 'swing', 'swing state', 'swiss', 'switch', 'switch trump', 'switch vote', 'symbol', 'syria', 'syria new', 'syria new york', 'syria strike', 'syrian', 'syrian rebel', 'syrian refuge', 'syrian war', 'syrian war report', 'system', 'tackl', 'tactic', 'taiwan', 'takata', 'take', 'take aim', 'take back', 'takeaway', 'taken', 'takeov', 'tale', 'talent', 'taliban', 'talk', 'talk new', 'tancredo', 'tank', 'tap', 'tape', 'tapper', 'target', 'tax', 'tax return', 'taxpay', 'taylor', 'tea', 'teach', 'teacher', 'team', 'team new', 'team new york', 'tear', 'tebow', 'tech', 'technolog', 'ted', 'ted cruz', 'teen', 'teenag', 'tell', 'tell truth', 'temperatur', 'templ', 'temporari', 'ten', 'tension', 'term', 'term new', 'term new york', 'termin', 'terri', 'terribl', 'terrifi', 'territori', 'terror', 'terror attack', 'terror breitbart', 'terror new', 'terrorist', 'terrorist attack', 'tesla', 'test', 'test new', 'test new york', 'testifi', 'testimoni', 'testimoni pennsylvania', 'testimoni pennsylvania public', 'texa', 'texa border', 'text', 'th', 'thank', 'thanksgiv', 'theater', 'theme', 'theori', 'therapi', 'theresa', 'theresa may', 'thiel', 'thierri', 'thierri meyssan', 'thin', 'thing', 'thing learn', 'thing need', 'thing need know', 'thing new', 'thing new york', 'think', 'think tank', 'third', 'thoma', 'though', 'thought', 'thousand', 'thousand wild', 'thread', 'threat', 'threaten', 'three', 'throne', 'throw', 'thrown', 'thug', 'thursday', 'thursday even', 'thursday even brief', 'thwart', 'ticket', 'tide', 'tie', 'tie new', 'tie new york', 'tiger', 'tighten', 'tillerson', 'tim', 'tim kain', 'time', 'time new', 'time new york', 'time trump', 'time year', 'timelin', 'tini', 'tip', 'tire', 'titl', 'titl new', 'titl new york', 'tobi', 'today', 'todd', 'toddler', 'togeth', 'told', 'toler', 'toll', 'tom', 'tom bradi', 'tomorrow', 'tone', 'toni', 'tonight', 'took', 'tool', 'top', 'top democrat', 'toppl', 'torch', 'tori', 'tortur', 'total', 'touch', 'tough', 'tour', 'tourist', 'tournament', 'toward', 'tower', 'town', 'town hall', 'town new', 'town new york', 'toxic', 'tpp', 'track', 'trade', 'trade deal', 'tradit', 'traffic', 'traffick', 'tragedi', 'tragic', 'trail', 'trailer', 'trailer breitbart', 'train', 'traitor', 'tran', 'transcript', 'transfer', 'transform', 'transgend', 'transgend student', 'transit', 'transit team', 'translat', 'transpar', 'transport', 'trap', 'trash', 'travel', 'travel ban', 'travel ban new', 'treason', 'treasuri', 'treat', 'treati', 'treatment', 'tree', 'trend', 'tri', 'tri hack', 'tri hack wikileak', 'tri steal', 'trial', 'trial new', 'trial new york', 'tribun', 'tribut', 'trick', 'trigger', 'trillion', 'trip', 'troll', 'troop', 'trophi', 'troubl', 'trove', 'truck', 'trudeau', 'true', 'trump', 'trump admin', 'trump administr', 'trump advis', 'trump aid', 'trump ask', 'trump attack', 'trump border', 'trump breitbart', 'trump budget', 'trump cabinet', 'trump call', 'trump campaign', 'trump celebr', 'trump choic', 'trump clinton', 'trump could', 'trump econom', 'trump elect', 'trump era', 'trump execut', 'trump execut order', 'trump face', 'trump famili', 'trump fan', 'trump favor', 'trump fire', 'trump first', 'trump first day', 'trump get', 'trump go', 'trump hillari', 'trump hillari clinton', 'trump hollywood', 'trump immigr', 'trump immigr order', 'trump inaugur', 'trump israel', 'trump keep', 'trump lose', 'trump lose grab', 'trump make', 'trump may', 'trump meet', 'trump move', 'trump must', 'trump nation', 'trump need', 'trump new', 'trump new york', 'trump nomine', 'trump order', 'trump pick', 'trump plan', 'trump polici', 'trump presid', 'trump promis', 'trump protest', 'trump put', 'trump putin', 'trump ralli', 'trump right', 'trump russia', 'trump say', 'trump sign', 'trump speech', 'trump star', 'trump support', 'trump take', 'trump talk', 'trump team', 'trump tell', 'trump tower', 'trump travel', 'trump travel ban', 'trump tri', 'trump truthfe', 'trump twitter', 'trump use', 'trump victori', 'trump video', 'trump visit', 'trump vote', 'trump voter', 'trump vow', 'trump vs', 'trump wall', 'trump want', 'trump warn', 'trump white', 'trump white hous', 'trump win', 'trump women', 'trump would', 'trust', 'truth', 'truthfe', 'tu', 'tuesday', 'tuesday brief', 'tuesday brief new', 'tuesday even', 'tuesday even brief', 'turkey', 'turkish', 'turmoil', 'turn', 'turnout', 'tv', 'tv show', 'tweet', 'twice', 'twin', 'twist', 'twitter', 'twitter breitbart', 'two', 'two year', 'type', 'tyranni', 'uber', 'uc', 'uc berkeley', 'uc davi', 'ufo', 'ugli', 'uk', 'ukrain', 'ukrainian', 'ultim', 'un', 'una', 'uncertainti', 'uncov', 'underground', 'undermin', 'understand', 'underway', 'undocu', 'unesco', 'unfold', 'union', 'unit', 'unit nation', 'unit state', 'uniti', 'univers', 'unknown', 'unleash', 'unlik', 'unmask', 'unpreced', 'unrest', 'unrest survey', 'unrest survey find', 'unthink', 'unusu', 'unveil', 'up', 'updat', 'upend', 'upgrad', 'uphold', 'upon', 'upset', 'upsid', 'urban', 'urg', 'us', 'us airstrik', 'us elect', 'us intellig', 'us militari', 'us new', 'us new york', 'us presid', 'usa', 'usa today', 'usapoliticsnow', 'use', 'use privat', 'user', 'util', 'util commiss', 'util commiss one', 'va', 'vacat', 'vacat new', 'vacat new york', 'vaccin', 'valley', 'valu', 'van', 'vandal', 'vanish', 'vast', 'vatican', 'vega', 'venezuela', 'venezuelan', 'venu', 'verdict', 'verita', 'verita video', 'version', 'versu', 'vertic', 'vertic farm', 'vertic farm grow', 'vet', 'veteran', 'veto', 'via', 'vice', 'vice presid', 'victim', 'victori', 'video', 'video expos', 'video show', 'video trump', 'vietnam', 'view', 'villag', 'vine', 'vineyard', 'vineyard saker', 'violat', 'violenc', 'violenc new', 'violenc new york', 'violent', 'viral', 'virgil', 'virginia', 'virtual', 'viru', 'visa', 'vision', 'visit', 'visitor', 'vitamin', 'vladimir', 'vladimir putin', 'vogu', 'voic', 'volkswagen', 'von', 'vote', 'vote clinton', 'vote donald', 'vote donald trump', 'vote hillari', 'vote machin', 'vote new', 'vote new york', 'vote trump', 'vote warmong', 'vote warmong hillari', 'vote world', 'vote world war', 'voter', 'voter fraud', 'voter id', 'voter suppress', 'vow', 'vp', 'vs', 'vulner', 'wage', 'wait', 'wait new', 'wake', 'walk', 'walk fame', 'wall', 'wall breitbart', 'wall street', 'wall street journal', 'want', 'want acknowledg', 'want acknowledg emf', 'want know', 'wapo', 'war', 'war crime', 'war ii', 'war iii', 'war new', 'war new york', 'war report', 'war report novemb', 'war russia', 'war syria', 'wari', 'warm', 'warmong', 'warmong hillari', 'warmong hillari clinton', 'warn', 'warn new', 'warn new york', 'warner', 'warrant', 'warren', 'warrior', 'washington', 'washington dc', 'washington new', 'washington new york', 'washington post', 'washington state', 'wast', 'watch', 'watch hillari', 'watch trump', 'water', 'water cooler', 'water new', 'water new york', 'water protector', 'waterg', 'wave', 'way', 'way new', 'way new york', 'weak', 'wealth', 'wealthi', 'weapon', 'wear', 'weather', 'websit', 'wed', 'wednesday', 'wednesday brief', 'wednesday brief new', 'wednesday even', 'wednesday even brief', 'weed', 'week', 'week new', 'week new york', 'weekend', 'weekend brief', 'weekend brief new', 'weekend new', 'weekend new york', 'weigh', 'weight', 'weiner', 'weiner laptop', 'weird', 'welcom', 'welfar', 'well', 'well fargo', 'went', 'west', 'west bank', 'western', 'westminst', 'wh', 'whatev', 'whine', 'whistl', 'whistleblow', 'white', 'white hous', 'white hous breitbart', 'white hous new', 'white nationalist', 'whole', 'whose', 'wide', 'wider', 'wield', 'wife', 'wikileak', 'wikileak email', 'wikileak hillari', 'wikileak releas', 'wild', 'wilder', 'wildfir', 'wildlif', 'wildlif refug', 'will', 'willi', 'william', 'wimbledon', 'win', 'win breitbart', 'win elect', 'win presid', 'wind', 'window', 'wine', 'wing', 'winner', 'winter', 'wire', 'wire transfer', 'wiretap', 'wiretap claim', 'wisconsin', 'wish', 'wit', 'witch', 'withdraw', 'within', 'without', 'wolf', 'woman', 'women', 'women march', 'women new', 'women new york', 'wonder', 'woo', 'wood', 'word', 'work', 'work class', 'work new', 'work new york', 'worker', 'world', 'world first', 'world new', 'world new york', 'world order', 'world seri', 'world war', 'world war iii', 'worldwid', 'worri', 'worri new', 'worri new york', 'wors', 'worst', 'worth', 'would', 'would look', 'wound', 'wow', 'wreck', 'wrestl', 'write', 'writer', 'writer news', 'wrong', 'wrote', 'ww', 'wwii', 'xi', 'xi jinp', 'yahoo', 'yale', 'ye', 'year', 'year ago', 'year breitbart', 'year eve', 'year later', 'year new', 'year new york', 'year old', 'year old girl', 'year sinc', 'yemen', 'yet', 'yet anoth', 'yiannopoulo', 'yield', 'yo', 'york', 'york citi', 'york new', 'york new york', 'york state', 'york time', 'yorker', 'young', 'youth', 'youtub', 'zealand', 'zero', 'zika', 'zika viru', 'zionist', 'zone', 'zone new', 'zone new york', 'zoo', 'zu', 'zuckerberg']\n"
          ]
        },
        {
          "output_type": "stream",
          "name": "stderr",
          "text": [
            "/usr/local/lib/python3.8/dist-packages/sklearn/utils/deprecation.py:87: FutureWarning: Function get_feature_names is deprecated; get_feature_names is deprecated in 1.0 and will be removed in 1.2. Please use get_feature_names_out instead.\n",
            "  warnings.warn(msg, category=FutureWarning)\n"
          ]
        }
      ]
    },
    {
      "cell_type": "code",
      "source": [
        "feature_names = vectorizer.get_feature_names()[:20]"
      ],
      "metadata": {
        "id": "Wi-FoeqcgFiC"
      },
      "execution_count": 22,
      "outputs": []
    },
    {
      "cell_type": "code",
      "source": [
        "## Divide the dataset into Train and Test\n",
        "from sklearn.model_selection import train_test_split\n",
        "X_train, X_test, y_train, y_test = train_test_split(X, y, test_size=0.2, random_state=0)\n",
        "\n",
        "count_df = pd.DataFrame(X_train, columns=vectorizer.get_feature_names())\n",
        "count_df.head()"
      ],
      "metadata": {
        "colab": {
          "base_uri": "https://localhost:8080/",
          "height": 290
        },
        "id": "oQac68UUgLJc",
        "outputId": "7a520e03-fa3d-4292-d943-7f48eebc0e21"
      },
      "execution_count": 23,
      "outputs": [
        {
          "output_type": "stream",
          "name": "stderr",
          "text": [
            "/usr/local/lib/python3.8/dist-packages/sklearn/utils/deprecation.py:87: FutureWarning: Function get_feature_names is deprecated; get_feature_names is deprecated in 1.0 and will be removed in 1.2. Please use get_feature_names_out instead.\n",
            "  warnings.warn(msg, category=FutureWarning)\n"
          ]
        },
        {
          "output_type": "execute_result",
          "data": {
            "text/plain": [
              "   abandon  abc  abc news  abduct  abe  abedin  abl  abort  abroad  absolut  \\\n",
              "0      0.0  0.0       0.0     0.0  0.0     0.0  0.0    0.0     0.0      0.0   \n",
              "1      0.0  0.0       0.0     0.0  0.0     0.0  0.0    0.0     0.0      0.0   \n",
              "2      0.0  0.0       0.0     0.0  0.0     0.0  0.0    0.0     0.0      0.0   \n",
              "3      0.0  0.0       0.0     0.0  0.0     0.0  0.0    0.0     0.0      0.0   \n",
              "4      0.0  0.0       0.0     0.0  0.0     0.0  0.0    0.0     0.0      0.0   \n",
              "\n",
              "   ...  zero  zika  zika viru  zionist  zone  zone new  zone new york  zoo  \\\n",
              "0  ...   0.0   0.0        0.0      0.0   0.0       0.0            0.0  0.0   \n",
              "1  ...   0.0   0.0        0.0      0.0   0.0       0.0            0.0  0.0   \n",
              "2  ...   0.0   0.0        0.0      0.0   0.0       0.0            0.0  0.0   \n",
              "3  ...   0.0   0.0        0.0      0.0   0.0       0.0            0.0  0.0   \n",
              "4  ...   0.0   0.0        0.0      0.0   0.0       0.0            0.0  0.0   \n",
              "\n",
              "    zu  zuckerberg  \n",
              "0  0.0         0.0  \n",
              "1  0.0         0.0  \n",
              "2  0.0         0.0  \n",
              "3  0.0         0.0  \n",
              "4  0.0         0.0  \n",
              "\n",
              "[5 rows x 5000 columns]"
            ],
            "text/html": [
              "\n",
              "  <div id=\"df-5a0d23ad-4cff-45d3-bc58-e6b6e76efab9\">\n",
              "    <div class=\"colab-df-container\">\n",
              "      <div>\n",
              "<style scoped>\n",
              "    .dataframe tbody tr th:only-of-type {\n",
              "        vertical-align: middle;\n",
              "    }\n",
              "\n",
              "    .dataframe tbody tr th {\n",
              "        vertical-align: top;\n",
              "    }\n",
              "\n",
              "    .dataframe thead th {\n",
              "        text-align: right;\n",
              "    }\n",
              "</style>\n",
              "<table border=\"1\" class=\"dataframe\">\n",
              "  <thead>\n",
              "    <tr style=\"text-align: right;\">\n",
              "      <th></th>\n",
              "      <th>abandon</th>\n",
              "      <th>abc</th>\n",
              "      <th>abc news</th>\n",
              "      <th>abduct</th>\n",
              "      <th>abe</th>\n",
              "      <th>abedin</th>\n",
              "      <th>abl</th>\n",
              "      <th>abort</th>\n",
              "      <th>abroad</th>\n",
              "      <th>absolut</th>\n",
              "      <th>...</th>\n",
              "      <th>zero</th>\n",
              "      <th>zika</th>\n",
              "      <th>zika viru</th>\n",
              "      <th>zionist</th>\n",
              "      <th>zone</th>\n",
              "      <th>zone new</th>\n",
              "      <th>zone new york</th>\n",
              "      <th>zoo</th>\n",
              "      <th>zu</th>\n",
              "      <th>zuckerberg</th>\n",
              "    </tr>\n",
              "  </thead>\n",
              "  <tbody>\n",
              "    <tr>\n",
              "      <th>0</th>\n",
              "      <td>0.0</td>\n",
              "      <td>0.0</td>\n",
              "      <td>0.0</td>\n",
              "      <td>0.0</td>\n",
              "      <td>0.0</td>\n",
              "      <td>0.0</td>\n",
              "      <td>0.0</td>\n",
              "      <td>0.0</td>\n",
              "      <td>0.0</td>\n",
              "      <td>0.0</td>\n",
              "      <td>...</td>\n",
              "      <td>0.0</td>\n",
              "      <td>0.0</td>\n",
              "      <td>0.0</td>\n",
              "      <td>0.0</td>\n",
              "      <td>0.0</td>\n",
              "      <td>0.0</td>\n",
              "      <td>0.0</td>\n",
              "      <td>0.0</td>\n",
              "      <td>0.0</td>\n",
              "      <td>0.0</td>\n",
              "    </tr>\n",
              "    <tr>\n",
              "      <th>1</th>\n",
              "      <td>0.0</td>\n",
              "      <td>0.0</td>\n",
              "      <td>0.0</td>\n",
              "      <td>0.0</td>\n",
              "      <td>0.0</td>\n",
              "      <td>0.0</td>\n",
              "      <td>0.0</td>\n",
              "      <td>0.0</td>\n",
              "      <td>0.0</td>\n",
              "      <td>0.0</td>\n",
              "      <td>...</td>\n",
              "      <td>0.0</td>\n",
              "      <td>0.0</td>\n",
              "      <td>0.0</td>\n",
              "      <td>0.0</td>\n",
              "      <td>0.0</td>\n",
              "      <td>0.0</td>\n",
              "      <td>0.0</td>\n",
              "      <td>0.0</td>\n",
              "      <td>0.0</td>\n",
              "      <td>0.0</td>\n",
              "    </tr>\n",
              "    <tr>\n",
              "      <th>2</th>\n",
              "      <td>0.0</td>\n",
              "      <td>0.0</td>\n",
              "      <td>0.0</td>\n",
              "      <td>0.0</td>\n",
              "      <td>0.0</td>\n",
              "      <td>0.0</td>\n",
              "      <td>0.0</td>\n",
              "      <td>0.0</td>\n",
              "      <td>0.0</td>\n",
              "      <td>0.0</td>\n",
              "      <td>...</td>\n",
              "      <td>0.0</td>\n",
              "      <td>0.0</td>\n",
              "      <td>0.0</td>\n",
              "      <td>0.0</td>\n",
              "      <td>0.0</td>\n",
              "      <td>0.0</td>\n",
              "      <td>0.0</td>\n",
              "      <td>0.0</td>\n",
              "      <td>0.0</td>\n",
              "      <td>0.0</td>\n",
              "    </tr>\n",
              "    <tr>\n",
              "      <th>3</th>\n",
              "      <td>0.0</td>\n",
              "      <td>0.0</td>\n",
              "      <td>0.0</td>\n",
              "      <td>0.0</td>\n",
              "      <td>0.0</td>\n",
              "      <td>0.0</td>\n",
              "      <td>0.0</td>\n",
              "      <td>0.0</td>\n",
              "      <td>0.0</td>\n",
              "      <td>0.0</td>\n",
              "      <td>...</td>\n",
              "      <td>0.0</td>\n",
              "      <td>0.0</td>\n",
              "      <td>0.0</td>\n",
              "      <td>0.0</td>\n",
              "      <td>0.0</td>\n",
              "      <td>0.0</td>\n",
              "      <td>0.0</td>\n",
              "      <td>0.0</td>\n",
              "      <td>0.0</td>\n",
              "      <td>0.0</td>\n",
              "    </tr>\n",
              "    <tr>\n",
              "      <th>4</th>\n",
              "      <td>0.0</td>\n",
              "      <td>0.0</td>\n",
              "      <td>0.0</td>\n",
              "      <td>0.0</td>\n",
              "      <td>0.0</td>\n",
              "      <td>0.0</td>\n",
              "      <td>0.0</td>\n",
              "      <td>0.0</td>\n",
              "      <td>0.0</td>\n",
              "      <td>0.0</td>\n",
              "      <td>...</td>\n",
              "      <td>0.0</td>\n",
              "      <td>0.0</td>\n",
              "      <td>0.0</td>\n",
              "      <td>0.0</td>\n",
              "      <td>0.0</td>\n",
              "      <td>0.0</td>\n",
              "      <td>0.0</td>\n",
              "      <td>0.0</td>\n",
              "      <td>0.0</td>\n",
              "      <td>0.0</td>\n",
              "    </tr>\n",
              "  </tbody>\n",
              "</table>\n",
              "<p>5 rows × 5000 columns</p>\n",
              "</div>\n",
              "      <button class=\"colab-df-convert\" onclick=\"convertToInteractive('df-5a0d23ad-4cff-45d3-bc58-e6b6e76efab9')\"\n",
              "              title=\"Convert this dataframe to an interactive table.\"\n",
              "              style=\"display:none;\">\n",
              "        \n",
              "  <svg xmlns=\"http://www.w3.org/2000/svg\" height=\"24px\"viewBox=\"0 0 24 24\"\n",
              "       width=\"24px\">\n",
              "    <path d=\"M0 0h24v24H0V0z\" fill=\"none\"/>\n",
              "    <path d=\"M18.56 5.44l.94 2.06.94-2.06 2.06-.94-2.06-.94-.94-2.06-.94 2.06-2.06.94zm-11 1L8.5 8.5l.94-2.06 2.06-.94-2.06-.94L8.5 2.5l-.94 2.06-2.06.94zm10 10l.94 2.06.94-2.06 2.06-.94-2.06-.94-.94-2.06-.94 2.06-2.06.94z\"/><path d=\"M17.41 7.96l-1.37-1.37c-.4-.4-.92-.59-1.43-.59-.52 0-1.04.2-1.43.59L10.3 9.45l-7.72 7.72c-.78.78-.78 2.05 0 2.83L4 21.41c.39.39.9.59 1.41.59.51 0 1.02-.2 1.41-.59l7.78-7.78 2.81-2.81c.8-.78.8-2.07 0-2.86zM5.41 20L4 18.59l7.72-7.72 1.47 1.35L5.41 20z\"/>\n",
              "  </svg>\n",
              "      </button>\n",
              "      \n",
              "  <style>\n",
              "    .colab-df-container {\n",
              "      display:flex;\n",
              "      flex-wrap:wrap;\n",
              "      gap: 12px;\n",
              "    }\n",
              "\n",
              "    .colab-df-convert {\n",
              "      background-color: #E8F0FE;\n",
              "      border: none;\n",
              "      border-radius: 50%;\n",
              "      cursor: pointer;\n",
              "      display: none;\n",
              "      fill: #1967D2;\n",
              "      height: 32px;\n",
              "      padding: 0 0 0 0;\n",
              "      width: 32px;\n",
              "    }\n",
              "\n",
              "    .colab-df-convert:hover {\n",
              "      background-color: #E2EBFA;\n",
              "      box-shadow: 0px 1px 2px rgba(60, 64, 67, 0.3), 0px 1px 3px 1px rgba(60, 64, 67, 0.15);\n",
              "      fill: #174EA6;\n",
              "    }\n",
              "\n",
              "    [theme=dark] .colab-df-convert {\n",
              "      background-color: #3B4455;\n",
              "      fill: #D2E3FC;\n",
              "    }\n",
              "\n",
              "    [theme=dark] .colab-df-convert:hover {\n",
              "      background-color: #434B5C;\n",
              "      box-shadow: 0px 1px 3px 1px rgba(0, 0, 0, 0.15);\n",
              "      filter: drop-shadow(0px 1px 2px rgba(0, 0, 0, 0.3));\n",
              "      fill: #FFFFFF;\n",
              "    }\n",
              "  </style>\n",
              "\n",
              "      <script>\n",
              "        const buttonEl =\n",
              "          document.querySelector('#df-5a0d23ad-4cff-45d3-bc58-e6b6e76efab9 button.colab-df-convert');\n",
              "        buttonEl.style.display =\n",
              "          google.colab.kernel.accessAllowed ? 'block' : 'none';\n",
              "\n",
              "        async function convertToInteractive(key) {\n",
              "          const element = document.querySelector('#df-5a0d23ad-4cff-45d3-bc58-e6b6e76efab9');\n",
              "          const dataTable =\n",
              "            await google.colab.kernel.invokeFunction('convertToInteractive',\n",
              "                                                     [key], {});\n",
              "          if (!dataTable) return;\n",
              "\n",
              "          const docLinkHtml = 'Like what you see? Visit the ' +\n",
              "            '<a target=\"_blank\" href=https://colab.research.google.com/notebooks/data_table.ipynb>data table notebook</a>'\n",
              "            + ' to learn more about interactive tables.';\n",
              "          element.innerHTML = '';\n",
              "          dataTable['output_type'] = 'display_data';\n",
              "          await google.colab.output.renderOutput(dataTable, element);\n",
              "          const docLink = document.createElement('div');\n",
              "          docLink.innerHTML = docLinkHtml;\n",
              "          element.appendChild(docLink);\n",
              "        }\n",
              "      </script>\n",
              "    </div>\n",
              "  </div>\n",
              "  "
            ]
          },
          "metadata": {},
          "execution_count": 23
        }
      ]
    },
    {
      "cell_type": "code",
      "source": [
        "# Melihat ukuran data latih dan data uji\n",
        "print('X_train : ', len(X_train))\n",
        "print('X_test : ', len(X_test))"
      ],
      "metadata": {
        "colab": {
          "base_uri": "https://localhost:8080/"
        },
        "id": "c_EmtpJvXzLg",
        "outputId": "251ba5f6-a0fa-40d7-c2bf-b0d282ce6324"
      },
      "execution_count": 37,
      "outputs": [
        {
          "output_type": "stream",
          "name": "stdout",
          "text": [
            "X_train :  14628\n",
            "X_test :  3657\n"
          ]
        }
      ]
    },
    {
      "cell_type": "code",
      "source": [
        "from sklearn.naive_bayes import MultinomialNB\n",
        "from sklearn import metrics\n",
        "import numpy as np\n",
        "import itertools\n",
        "import seaborn as sns\n",
        "\n",
        "classifier=MultinomialNB()\n",
        "classifier.fit(X_train, y_train)\n",
        "pred = classifier.predict(X_test)\n",
        "score = metrics.accuracy_score(y_test, pred)\n",
        "print(\"accuracy:   %0.3f\" % (score*100))"
      ],
      "metadata": {
        "colab": {
          "base_uri": "https://localhost:8080/"
        },
        "id": "hiojD2gQgjYv",
        "outputId": "2aec9420-2df6-4d73-dd3f-640c5a97b09a"
      },
      "execution_count": 27,
      "outputs": [
        {
          "output_type": "stream",
          "name": "stdout",
          "text": [
            "accuracy:   88.871\n"
          ]
        }
      ]
    },
    {
      "cell_type": "code",
      "source": [
        "from sklearn import svm\n",
        "# Classifier - Algorithm - SVM\n",
        "# fitting/training datasets pada algoritma SVM(Support Vector Machine)\n",
        "SVM = svm.SVC(C=1.0, kernel='linear', degree=1, gamma=\"auto\", verbose=True)\n",
        "SVM.fit(X_train, y_train)  # predict the labels on validation dataset\n",
        "\n",
        "# Menggunakan metrics accuracy untuk melihat performa model\n",
        "predictions_SVM = SVM.predict(X_test)\n",
        "print(\"SVM Accuracy Score -> \", accuracy_score(predictions_SVM, y_test)*100)"
      ],
      "metadata": {
        "colab": {
          "base_uri": "https://localhost:8080/"
        },
        "id": "H4NdLRg4Qe4c",
        "outputId": "0568c310-f40c-4a53-83da-c4bee8f0fb95"
      },
      "execution_count": 36,
      "outputs": [
        {
          "output_type": "stream",
          "name": "stdout",
          "text": [
            "[LibSVM]SVM Accuracy Score ->  93.6833470057424\n"
          ]
        }
      ]
    },
    {
      "cell_type": "code",
      "source": [
        "from sklearn.metrics import accuracy_score,classification_report"
      ],
      "metadata": {
        "id": "di-FqYvrwDdL"
      },
      "execution_count": 29,
      "outputs": []
    },
    {
      "cell_type": "code",
      "source": [
        "y_pred_test = classifier.predict(X_test)\n",
        "print(classification_report(y_test , y_pred_test))"
      ],
      "metadata": {
        "id": "OXkhYi60vmmW",
        "outputId": "9788ffff-c638-4c25-895b-06d1d7a7ab2d",
        "colab": {
          "base_uri": "https://localhost:8080/"
        }
      },
      "execution_count": 34,
      "outputs": [
        {
          "output_type": "stream",
          "name": "stdout",
          "text": [
            "              precision    recall  f1-score   support\n",
            "\n",
            "           0       0.87      0.94      0.90      2040\n",
            "           1       0.92      0.82      0.87      1617\n",
            "\n",
            "    accuracy                           0.89      3657\n",
            "   macro avg       0.89      0.88      0.89      3657\n",
            "weighted avg       0.89      0.89      0.89      3657\n",
            "\n"
          ]
        }
      ]
    },
    {
      "cell_type": "code",
      "source": [
        "y_pred_train = classifier.predict(X_train)\n",
        "print(classification_report(y_train , y_pred_train))"
      ],
      "metadata": {
        "colab": {
          "base_uri": "https://localhost:8080/"
        },
        "id": "m4y-z72ZVrey",
        "outputId": "339b5644-a6b7-475c-91a8-00b981d85aac"
      },
      "execution_count": 35,
      "outputs": [
        {
          "output_type": "stream",
          "name": "stdout",
          "text": [
            "              precision    recall  f1-score   support\n",
            "\n",
            "           0       0.90      0.96      0.93      8321\n",
            "           1       0.94      0.85      0.90      6307\n",
            "\n",
            "    accuracy                           0.91     14628\n",
            "   macro avg       0.92      0.91      0.91     14628\n",
            "weighted avg       0.92      0.91      0.91     14628\n",
            "\n"
          ]
        }
      ]
    }
  ]
}